{
  "cells": [
    {
      "cell_type": "markdown",
      "id": "f8b281ec",
      "metadata": {
        "id": "f8b281ec"
      },
      "source": [
        "# Data science project\n",
        "\n",
        "# Loan Approval Prediction Problem\n",
        "\n",
        "\n"
      ]
    },
    {
      "cell_type": "markdown",
      "id": "24b38df9",
      "metadata": {
        "id": "24b38df9"
      },
      "source": [
        "Objectives:\n",
        "- Perform the basic procedures of data preparation, cleaning, and EDA.\n",
        "\n",
        "- Perform all the necessary feature engineering tasks to prepare the dataset.\n",
        "\n",
        "- Explore the relationship and correlations between variables.\n",
        "\n",
        "- Apply different classification models such as logistic regression, KNN, and SVM.\n",
        "\n",
        "- Experiment with different parameters in SVM.\n",
        "\n",
        "- Evaluate the model using the metrics."
      ]
    },
    {
      "cell_type": "markdown",
      "id": "ea9e2ccd",
      "metadata": {
        "id": "ea9e2ccd"
      },
      "source": [
        "#### Problem Description:\n",
        "Company wants to automate the loan eligibility process (real time) based on customer detail provided while filling online application form. These details are Gender, Marital Status, Education, Number of Dependents, Income, Loan Amount, Credit History and others. To automate this process, they have given a problem to identify the customers segments, those are eligible for loan amount so that they can specifically target these customers. Here they have provided a partial data set."
      ]
    },
    {
      "cell_type": "code",
      "execution_count": null,
      "id": "648bc26f",
      "metadata": {
        "id": "648bc26f"
      },
      "outputs": [],
      "source": [
        "#first importing needed libraries\n",
        "import pandas as pd\n",
        "import numpy as np\n",
        "import matplotlib.pyplot as plt\n",
        "import seaborn as sns\n",
        "from sklearn import preprocessing"
      ]
    },
    {
      "cell_type": "code",
      "execution_count": null,
      "id": "19d7a33d",
      "metadata": {
        "id": "19d7a33d",
        "outputId": "7579e166-d3de-4ca0-b04f-ee983996c30b"
      },
      "outputs": [
        {
          "data": {
            "text/html": [
              "<div>\n",
              "<style scoped>\n",
              "    .dataframe tbody tr th:only-of-type {\n",
              "        vertical-align: middle;\n",
              "    }\n",
              "\n",
              "    .dataframe tbody tr th {\n",
              "        vertical-align: top;\n",
              "    }\n",
              "\n",
              "    .dataframe thead th {\n",
              "        text-align: right;\n",
              "    }\n",
              "</style>\n",
              "<table border=\"1\" class=\"dataframe\">\n",
              "  <thead>\n",
              "    <tr style=\"text-align: right;\">\n",
              "      <th></th>\n",
              "      <th>Loan_ID</th>\n",
              "      <th>Gender</th>\n",
              "      <th>Married</th>\n",
              "      <th>Dependents</th>\n",
              "      <th>Education</th>\n",
              "      <th>Self_Employed</th>\n",
              "      <th>ApplicantIncome</th>\n",
              "      <th>CoapplicantIncome</th>\n",
              "      <th>LoanAmount</th>\n",
              "      <th>Loan_Amount_Term</th>\n",
              "      <th>Credit_History</th>\n",
              "      <th>Property_Area</th>\n",
              "      <th>Loan_Status</th>\n",
              "    </tr>\n",
              "  </thead>\n",
              "  <tbody>\n",
              "    <tr>\n",
              "      <th>0</th>\n",
              "      <td>LP001002</td>\n",
              "      <td>Male</td>\n",
              "      <td>No</td>\n",
              "      <td>0</td>\n",
              "      <td>Graduate</td>\n",
              "      <td>No</td>\n",
              "      <td>5849</td>\n",
              "      <td>0.0</td>\n",
              "      <td>NaN</td>\n",
              "      <td>360.0</td>\n",
              "      <td>1.0</td>\n",
              "      <td>Urban</td>\n",
              "      <td>Y</td>\n",
              "    </tr>\n",
              "    <tr>\n",
              "      <th>1</th>\n",
              "      <td>LP001003</td>\n",
              "      <td>Male</td>\n",
              "      <td>Yes</td>\n",
              "      <td>1</td>\n",
              "      <td>Graduate</td>\n",
              "      <td>No</td>\n",
              "      <td>4583</td>\n",
              "      <td>1508.0</td>\n",
              "      <td>128.0</td>\n",
              "      <td>360.0</td>\n",
              "      <td>1.0</td>\n",
              "      <td>Rural</td>\n",
              "      <td>N</td>\n",
              "    </tr>\n",
              "    <tr>\n",
              "      <th>2</th>\n",
              "      <td>LP001005</td>\n",
              "      <td>Male</td>\n",
              "      <td>Yes</td>\n",
              "      <td>0</td>\n",
              "      <td>Graduate</td>\n",
              "      <td>Yes</td>\n",
              "      <td>3000</td>\n",
              "      <td>0.0</td>\n",
              "      <td>66.0</td>\n",
              "      <td>360.0</td>\n",
              "      <td>1.0</td>\n",
              "      <td>Urban</td>\n",
              "      <td>Y</td>\n",
              "    </tr>\n",
              "    <tr>\n",
              "      <th>3</th>\n",
              "      <td>LP001006</td>\n",
              "      <td>Male</td>\n",
              "      <td>Yes</td>\n",
              "      <td>0</td>\n",
              "      <td>Not Graduate</td>\n",
              "      <td>No</td>\n",
              "      <td>2583</td>\n",
              "      <td>2358.0</td>\n",
              "      <td>120.0</td>\n",
              "      <td>360.0</td>\n",
              "      <td>1.0</td>\n",
              "      <td>Urban</td>\n",
              "      <td>Y</td>\n",
              "    </tr>\n",
              "    <tr>\n",
              "      <th>4</th>\n",
              "      <td>LP001008</td>\n",
              "      <td>Male</td>\n",
              "      <td>No</td>\n",
              "      <td>0</td>\n",
              "      <td>Graduate</td>\n",
              "      <td>No</td>\n",
              "      <td>6000</td>\n",
              "      <td>0.0</td>\n",
              "      <td>141.0</td>\n",
              "      <td>360.0</td>\n",
              "      <td>1.0</td>\n",
              "      <td>Urban</td>\n",
              "      <td>Y</td>\n",
              "    </tr>\n",
              "  </tbody>\n",
              "</table>\n",
              "</div>"
            ],
            "text/plain": [
              "    Loan_ID Gender Married Dependents     Education Self_Employed  \\\n",
              "0  LP001002   Male      No          0      Graduate            No   \n",
              "1  LP001003   Male     Yes          1      Graduate            No   \n",
              "2  LP001005   Male     Yes          0      Graduate           Yes   \n",
              "3  LP001006   Male     Yes          0  Not Graduate            No   \n",
              "4  LP001008   Male      No          0      Graduate            No   \n",
              "\n",
              "   ApplicantIncome  CoapplicantIncome  LoanAmount  Loan_Amount_Term  \\\n",
              "0             5849                0.0         NaN             360.0   \n",
              "1             4583             1508.0       128.0             360.0   \n",
              "2             3000                0.0        66.0             360.0   \n",
              "3             2583             2358.0       120.0             360.0   \n",
              "4             6000                0.0       141.0             360.0   \n",
              "\n",
              "   Credit_History Property_Area Loan_Status  \n",
              "0             1.0         Urban           Y  \n",
              "1             1.0         Rural           N  \n",
              "2             1.0         Urban           Y  \n",
              "3             1.0         Urban           Y  \n",
              "4             1.0         Urban           Y  "
            ]
          },
          "execution_count": 3,
          "metadata": {},
          "output_type": "execute_result"
        }
      ],
      "source": [
        "#Reading a csv file and preview data\n",
        "loanData = pd.read_csv(\"loan prediction.csv\")\n",
        "loanData.head()\n"
      ]
    },
    {
      "cell_type": "code",
      "execution_count": null,
      "id": "29c30a7c",
      "metadata": {
        "id": "29c30a7c",
        "outputId": "2519a2ed-51c2-4e40-ae21-969dc9795bca"
      },
      "outputs": [
        {
          "name": "stdout",
          "output_type": "stream",
          "text": [
            "<class 'pandas.core.frame.DataFrame'>\n",
            "RangeIndex: 614 entries, 0 to 613\n",
            "Data columns (total 13 columns):\n",
            " #   Column             Non-Null Count  Dtype  \n",
            "---  ------             --------------  -----  \n",
            " 0   Loan_ID            614 non-null    object \n",
            " 1   Gender             601 non-null    object \n",
            " 2   Married            611 non-null    object \n",
            " 3   Dependents         599 non-null    object \n",
            " 4   Education          614 non-null    object \n",
            " 5   Self_Employed      582 non-null    object \n",
            " 6   ApplicantIncome    614 non-null    int64  \n",
            " 7   CoapplicantIncome  614 non-null    float64\n",
            " 8   LoanAmount         592 non-null    float64\n",
            " 9   Loan_Amount_Term   600 non-null    float64\n",
            " 10  Credit_History     564 non-null    float64\n",
            " 11  Property_Area      614 non-null    object \n",
            " 12  Loan_Status        614 non-null    object \n",
            "dtypes: float64(4), int64(1), object(8)\n",
            "memory usage: 62.5+ KB\n"
          ]
        },
        {
          "data": {
            "text/plain": [
              "(614, 13)"
            ]
          },
          "execution_count": 118,
          "metadata": {},
          "output_type": "execute_result"
        }
      ],
      "source": [
        "loanData.info() #General information about the dataset\n",
        "loanData.shape #number of rows=614, number of columns=13"
      ]
    },
    {
      "cell_type": "code",
      "execution_count": null,
      "id": "3dda8703",
      "metadata": {
        "id": "3dda8703",
        "outputId": "61f474bd-6c83-419f-a3b2-6b886b0cc080"
      },
      "outputs": [
        {
          "data": {
            "text/html": [
              "<div>\n",
              "<style scoped>\n",
              "    .dataframe tbody tr th:only-of-type {\n",
              "        vertical-align: middle;\n",
              "    }\n",
              "\n",
              "    .dataframe tbody tr th {\n",
              "        vertical-align: top;\n",
              "    }\n",
              "\n",
              "    .dataframe thead th {\n",
              "        text-align: right;\n",
              "    }\n",
              "</style>\n",
              "<table border=\"1\" class=\"dataframe\">\n",
              "  <thead>\n",
              "    <tr style=\"text-align: right;\">\n",
              "      <th></th>\n",
              "      <th>Loan_ID</th>\n",
              "      <th>Gender</th>\n",
              "      <th>Married</th>\n",
              "      <th>Dependents</th>\n",
              "      <th>Education</th>\n",
              "      <th>Self_Employed</th>\n",
              "      <th>Property_Area</th>\n",
              "      <th>Loan_Status</th>\n",
              "    </tr>\n",
              "  </thead>\n",
              "  <tbody>\n",
              "    <tr>\n",
              "      <th>count</th>\n",
              "      <td>614</td>\n",
              "      <td>601</td>\n",
              "      <td>611</td>\n",
              "      <td>599</td>\n",
              "      <td>614</td>\n",
              "      <td>582</td>\n",
              "      <td>614</td>\n",
              "      <td>614</td>\n",
              "    </tr>\n",
              "    <tr>\n",
              "      <th>unique</th>\n",
              "      <td>614</td>\n",
              "      <td>2</td>\n",
              "      <td>2</td>\n",
              "      <td>4</td>\n",
              "      <td>2</td>\n",
              "      <td>2</td>\n",
              "      <td>3</td>\n",
              "      <td>2</td>\n",
              "    </tr>\n",
              "    <tr>\n",
              "      <th>top</th>\n",
              "      <td>LP001002</td>\n",
              "      <td>Male</td>\n",
              "      <td>Yes</td>\n",
              "      <td>0</td>\n",
              "      <td>Graduate</td>\n",
              "      <td>No</td>\n",
              "      <td>Semiurban</td>\n",
              "      <td>Y</td>\n",
              "    </tr>\n",
              "    <tr>\n",
              "      <th>freq</th>\n",
              "      <td>1</td>\n",
              "      <td>489</td>\n",
              "      <td>398</td>\n",
              "      <td>345</td>\n",
              "      <td>480</td>\n",
              "      <td>500</td>\n",
              "      <td>233</td>\n",
              "      <td>422</td>\n",
              "    </tr>\n",
              "  </tbody>\n",
              "</table>\n",
              "</div>"
            ],
            "text/plain": [
              "         Loan_ID Gender Married Dependents Education Self_Employed  \\\n",
              "count        614    601     611        599       614           582   \n",
              "unique       614      2       2          4         2             2   \n",
              "top     LP001002   Male     Yes          0  Graduate            No   \n",
              "freq           1    489     398        345       480           500   \n",
              "\n",
              "       Property_Area Loan_Status  \n",
              "count            614         614  \n",
              "unique             3           2  \n",
              "top        Semiurban           Y  \n",
              "freq             233         422  "
            ]
          },
          "execution_count": 119,
          "metadata": {},
          "output_type": "execute_result"
        }
      ],
      "source": [
        "#number of unique elements in each column\n",
        "loanData.describe(include=['O'])"
      ]
    },
    {
      "cell_type": "code",
      "execution_count": null,
      "id": "7d4c268a",
      "metadata": {
        "id": "7d4c268a",
        "outputId": "1f4bf24c-e133-431d-cb18-76ff74980457"
      },
      "outputs": [
        {
          "data": {
            "text/html": [
              "<div>\n",
              "<style scoped>\n",
              "    .dataframe tbody tr th:only-of-type {\n",
              "        vertical-align: middle;\n",
              "    }\n",
              "\n",
              "    .dataframe tbody tr th {\n",
              "        vertical-align: top;\n",
              "    }\n",
              "\n",
              "    .dataframe thead th {\n",
              "        text-align: right;\n",
              "    }\n",
              "</style>\n",
              "<table border=\"1\" class=\"dataframe\">\n",
              "  <thead>\n",
              "    <tr style=\"text-align: right;\">\n",
              "      <th></th>\n",
              "      <th>ApplicantIncome</th>\n",
              "      <th>CoapplicantIncome</th>\n",
              "      <th>LoanAmount</th>\n",
              "      <th>Loan_Amount_Term</th>\n",
              "      <th>Credit_History</th>\n",
              "    </tr>\n",
              "  </thead>\n",
              "  <tbody>\n",
              "    <tr>\n",
              "      <th>count</th>\n",
              "      <td>614.000000</td>\n",
              "      <td>614.000000</td>\n",
              "      <td>592.000000</td>\n",
              "      <td>600.00000</td>\n",
              "      <td>564.000000</td>\n",
              "    </tr>\n",
              "    <tr>\n",
              "      <th>mean</th>\n",
              "      <td>5403.459283</td>\n",
              "      <td>1621.245798</td>\n",
              "      <td>146.412162</td>\n",
              "      <td>342.00000</td>\n",
              "      <td>0.842199</td>\n",
              "    </tr>\n",
              "    <tr>\n",
              "      <th>std</th>\n",
              "      <td>6109.041673</td>\n",
              "      <td>2926.248369</td>\n",
              "      <td>85.587325</td>\n",
              "      <td>65.12041</td>\n",
              "      <td>0.364878</td>\n",
              "    </tr>\n",
              "    <tr>\n",
              "      <th>min</th>\n",
              "      <td>150.000000</td>\n",
              "      <td>0.000000</td>\n",
              "      <td>9.000000</td>\n",
              "      <td>12.00000</td>\n",
              "      <td>0.000000</td>\n",
              "    </tr>\n",
              "    <tr>\n",
              "      <th>25%</th>\n",
              "      <td>2877.500000</td>\n",
              "      <td>0.000000</td>\n",
              "      <td>100.000000</td>\n",
              "      <td>360.00000</td>\n",
              "      <td>1.000000</td>\n",
              "    </tr>\n",
              "    <tr>\n",
              "      <th>50%</th>\n",
              "      <td>3812.500000</td>\n",
              "      <td>1188.500000</td>\n",
              "      <td>128.000000</td>\n",
              "      <td>360.00000</td>\n",
              "      <td>1.000000</td>\n",
              "    </tr>\n",
              "    <tr>\n",
              "      <th>75%</th>\n",
              "      <td>5795.000000</td>\n",
              "      <td>2297.250000</td>\n",
              "      <td>168.000000</td>\n",
              "      <td>360.00000</td>\n",
              "      <td>1.000000</td>\n",
              "    </tr>\n",
              "    <tr>\n",
              "      <th>max</th>\n",
              "      <td>81000.000000</td>\n",
              "      <td>41667.000000</td>\n",
              "      <td>700.000000</td>\n",
              "      <td>480.00000</td>\n",
              "      <td>1.000000</td>\n",
              "    </tr>\n",
              "  </tbody>\n",
              "</table>\n",
              "</div>"
            ],
            "text/plain": [
              "       ApplicantIncome  CoapplicantIncome  LoanAmount  Loan_Amount_Term  \\\n",
              "count       614.000000         614.000000  592.000000         600.00000   \n",
              "mean       5403.459283        1621.245798  146.412162         342.00000   \n",
              "std        6109.041673        2926.248369   85.587325          65.12041   \n",
              "min         150.000000           0.000000    9.000000          12.00000   \n",
              "25%        2877.500000           0.000000  100.000000         360.00000   \n",
              "50%        3812.500000        1188.500000  128.000000         360.00000   \n",
              "75%        5795.000000        2297.250000  168.000000         360.00000   \n",
              "max       81000.000000       41667.000000  700.000000         480.00000   \n",
              "\n",
              "       Credit_History  \n",
              "count      564.000000  \n",
              "mean         0.842199  \n",
              "std          0.364878  \n",
              "min          0.000000  \n",
              "25%          1.000000  \n",
              "50%          1.000000  \n",
              "75%          1.000000  \n",
              "max          1.000000  "
            ]
          },
          "execution_count": 120,
          "metadata": {},
          "output_type": "execute_result"
        }
      ],
      "source": [
        "#Statistical description of the numerical columns\n",
        "loanData.describe()"
      ]
    },
    {
      "cell_type": "markdown",
      "id": "a55e2159",
      "metadata": {
        "id": "a55e2159"
      },
      "source": [
        "# Data preparation and cleaning"
      ]
    },
    {
      "cell_type": "code",
      "execution_count": null,
      "id": "c0cb3a94",
      "metadata": {
        "id": "c0cb3a94",
        "outputId": "261a5ec9-8f5c-4684-ffe3-e120197537a5"
      },
      "outputs": [
        {
          "data": {
            "text/plain": [
              "Loan_ID               0\n",
              "Gender               13\n",
              "Married               3\n",
              "Dependents           15\n",
              "Education             0\n",
              "Self_Employed        32\n",
              "ApplicantIncome       0\n",
              "CoapplicantIncome     0\n",
              "LoanAmount           22\n",
              "Loan_Amount_Term     14\n",
              "Credit_History       50\n",
              "Property_Area         0\n",
              "Loan_Status           0\n",
              "dtype: int64"
            ]
          },
          "execution_count": 4,
          "metadata": {},
          "output_type": "execute_result"
        }
      ],
      "source": [
        "# finding any Missing values in the dataset\n",
        "loanData.isnull().sum()"
      ]
    },
    {
      "cell_type": "code",
      "execution_count": null,
      "id": "8456b822",
      "metadata": {
        "id": "8456b822",
        "outputId": "8581da35-dd6e-4eff-e0a7-8a5cac2add82"
      },
      "outputs": [
        {
          "name": "stdout",
          "output_type": "stream",
          "text": [
            "Male\n"
          ]
        },
        {
          "data": {
            "text/plain": [
              "0"
            ]
          },
          "execution_count": 5,
          "metadata": {},
          "output_type": "execute_result"
        }
      ],
      "source": [
        "#filling  null values in Gender column with the frequent value of the column which is male\n",
        "genderFrequent=loanData['Gender'].value_counts().idxmax()\n",
        "print(genderFrequent)\n",
        "loanData['Gender'].fillna(genderFrequent, inplace=True)\n",
        "#checking that null values are filled\n",
        "loanData['Gender'].isnull().sum()"
      ]
    },
    {
      "cell_type": "code",
      "execution_count": null,
      "id": "f8b46927",
      "metadata": {
        "id": "f8b46927",
        "outputId": "ebf8e365-c265-4503-a206-88b6da66538c"
      },
      "outputs": [
        {
          "name": "stdout",
          "output_type": "stream",
          "text": [
            "Yes\n"
          ]
        },
        {
          "data": {
            "text/plain": [
              "0"
            ]
          },
          "execution_count": 6,
          "metadata": {},
          "output_type": "execute_result"
        }
      ],
      "source": [
        "#filling  null values in Married column with the frequent value of the column which is yes\n",
        "MarriedFrequent=loanData['Married'].value_counts().idxmax()\n",
        "print(MarriedFrequent)\n",
        "loanData['Married'].fillna(MarriedFrequent, inplace=True)\n",
        "#checking that null values are filled\n",
        "loanData['Married'].isnull().sum()"
      ]
    },
    {
      "cell_type": "code",
      "execution_count": null,
      "id": "061aa146",
      "metadata": {
        "id": "061aa146",
        "outputId": "a454190a-c688-4633-bf27-6f8b66d3aacf"
      },
      "outputs": [
        {
          "name": "stdout",
          "output_type": "stream",
          "text": [
            "0\n"
          ]
        },
        {
          "data": {
            "text/plain": [
              "0"
            ]
          },
          "execution_count": 7,
          "metadata": {},
          "output_type": "execute_result"
        }
      ],
      "source": [
        "#filling  null values in Dependents column with the frequent value of the column which is 0\n",
        "DependentsFrequent=loanData['Dependents'].value_counts().idxmax()\n",
        "print(DependentsFrequent)\n",
        "loanData['Dependents'].fillna(DependentsFrequent, inplace=True)\n",
        "#checking that null values are filled\n",
        "loanData['Dependents'].isnull().sum()"
      ]
    },
    {
      "cell_type": "code",
      "execution_count": null,
      "id": "b63c6f9a",
      "metadata": {
        "id": "b63c6f9a",
        "outputId": "5c009528-1058-4db3-cd49-0e928cb0097f"
      },
      "outputs": [
        {
          "name": "stdout",
          "output_type": "stream",
          "text": [
            "No\n"
          ]
        },
        {
          "data": {
            "text/plain": [
              "0"
            ]
          },
          "execution_count": 8,
          "metadata": {},
          "output_type": "execute_result"
        }
      ],
      "source": [
        "#filling  null values in Self_Employed column with the frequent value of the column which is no\n",
        "Self_EmployedFrequent=loanData['Self_Employed'].value_counts().idxmax()\n",
        "print(Self_EmployedFrequent)\n",
        "loanData['Self_Employed'].fillna(Self_EmployedFrequent, inplace=True)\n",
        "#checking that null values are filled\n",
        "loanData['Self_Employed'].isnull().sum()\n"
      ]
    },
    {
      "cell_type": "code",
      "execution_count": null,
      "id": "e1dd1270",
      "metadata": {
        "id": "e1dd1270",
        "outputId": "5d134457-7a25-497b-cc7b-6f3d215a0a26"
      },
      "outputs": [
        {
          "name": "stdout",
          "output_type": "stream",
          "text": [
            "146.41\n"
          ]
        },
        {
          "data": {
            "text/plain": [
              "0"
            ]
          },
          "execution_count": 9,
          "metadata": {},
          "output_type": "execute_result"
        }
      ],
      "source": [
        "#filling  null values in LoanAmount column with the mean of the column which is 146.41\n",
        "LoanAmountMean=loanData['LoanAmount'].mean(skipna=True)\n",
        "LoanAmountRounded=round(LoanAmountMean,2)\n",
        "print(LoanAmountRounded)\n",
        "loanData['LoanAmount'].fillna(LoanAmountRounded, inplace=True)\n",
        "#checking that null values are filled\n",
        "loanData['LoanAmount'].isnull().sum()\n"
      ]
    },
    {
      "cell_type": "code",
      "execution_count": null,
      "id": "39285a85",
      "metadata": {
        "id": "39285a85",
        "outputId": "8e7b00fa-ec42-4ca6-b1e4-d82761c1593f"
      },
      "outputs": [
        {
          "name": "stdout",
          "output_type": "stream",
          "text": [
            "360.0\n"
          ]
        },
        {
          "data": {
            "text/plain": [
              "0"
            ]
          },
          "execution_count": 10,
          "metadata": {},
          "output_type": "execute_result"
        }
      ],
      "source": [
        "#filling  null values in Loan_Amount_Term column with the frequent value of the column which is 360\n",
        "termFrequent=loanData['Loan_Amount_Term'].value_counts().idxmax()\n",
        "print(termFrequent)\n",
        "loanData['Loan_Amount_Term'].fillna(termFrequent, inplace=True)\n",
        "#checking that null values are filled\n",
        "loanData['Loan_Amount_Term'].isnull().sum()\n"
      ]
    },
    {
      "cell_type": "code",
      "execution_count": null,
      "id": "476a1b45",
      "metadata": {
        "id": "476a1b45",
        "outputId": "c1e49b2a-e89d-4580-94ae-02ea966f22f4"
      },
      "outputs": [
        {
          "name": "stdout",
          "output_type": "stream",
          "text": [
            "1.0\n"
          ]
        },
        {
          "data": {
            "text/plain": [
              "Loan_ID              0\n",
              "Gender               0\n",
              "Married              0\n",
              "Dependents           0\n",
              "Education            0\n",
              "Self_Employed        0\n",
              "ApplicantIncome      0\n",
              "CoapplicantIncome    0\n",
              "LoanAmount           0\n",
              "Loan_Amount_Term     0\n",
              "Credit_History       0\n",
              "Property_Area        0\n",
              "Loan_Status          0\n",
              "dtype: int64"
            ]
          },
          "execution_count": 11,
          "metadata": {},
          "output_type": "execute_result"
        }
      ],
      "source": [
        "#filling  null values in Credit_History column with the frequent value of the column which is 1\n",
        "historyFrequent=loanData['Credit_History'].value_counts().idxmax()\n",
        "print(historyFrequent)\n",
        "loanData['Credit_History'].fillna(historyFrequent, inplace=True)\n",
        "#checking that null values are filled\n",
        "loanData.isnull().sum()"
      ]
    },
    {
      "cell_type": "code",
      "execution_count": null,
      "id": "880b4b70",
      "metadata": {
        "id": "880b4b70",
        "outputId": "6c800e06-5c8e-46e0-d5bc-ac5db4dfa655"
      },
      "outputs": [
        {
          "data": {
            "text/plain": [
              "0"
            ]
          },
          "execution_count": 12,
          "metadata": {},
          "output_type": "execute_result"
        }
      ],
      "source": [
        "#checking for duplicated records\n",
        "sum(loanData.duplicated())"
      ]
    },
    {
      "cell_type": "code",
      "execution_count": null,
      "id": "3c278ab2",
      "metadata": {
        "id": "3c278ab2",
        "outputId": "f080e156-fcad-4425-e1d1-778dc711cfd4"
      },
      "outputs": [
        {
          "name": "stdout",
          "output_type": "stream",
          "text": [
            "<class 'pandas.core.frame.DataFrame'>\n",
            "RangeIndex: 614 entries, 0 to 613\n",
            "Data columns (total 13 columns):\n",
            " #   Column             Non-Null Count  Dtype  \n",
            "---  ------             --------------  -----  \n",
            " 0   Loan_ID            614 non-null    object \n",
            " 1   Gender             614 non-null    object \n",
            " 2   Married            614 non-null    object \n",
            " 3   Dependents         614 non-null    int64  \n",
            " 4   Education          614 non-null    object \n",
            " 5   Self_Employed      614 non-null    object \n",
            " 6   ApplicantIncome    614 non-null    int64  \n",
            " 7   CoapplicantIncome  614 non-null    float64\n",
            " 8   LoanAmount         614 non-null    float64\n",
            " 9   Loan_Amount_Term   614 non-null    float64\n",
            " 10  Credit_History     614 non-null    float64\n",
            " 11  Property_Area      614 non-null    object \n",
            " 12  Loan_Status        614 non-null    object \n",
            "dtypes: float64(4), int64(2), object(7)\n",
            "memory usage: 62.5+ KB\n"
          ]
        }
      ],
      "source": [
        "#Convert Dependents column from object data type to int64\n",
        "dependents_converted= {'0':0,'1':1,'2':2,'3+':3}\n",
        "loanData['Dependents'].replace(dependents_converted,inplace=True)\n",
        "loanData.info()\n",
        "\n"
      ]
    },
    {
      "cell_type": "code",
      "execution_count": null,
      "id": "2a70d02f",
      "metadata": {
        "id": "2a70d02f",
        "outputId": "111433ed-e47b-4033-999d-6b55b90424e3"
      },
      "outputs": [
        {
          "name": "stdout",
          "output_type": "stream",
          "text": [
            "Dependents minimum value:  0\n",
            "ApplicantIncome minimum value:  150\n",
            "CoapplicantIncome minimum value:  0.0\n",
            "LoanAmount minimum value:  9.0\n",
            "Loan_Amount_Term minimum value:  12.0\n",
            "Credit_History minimum value:  0.0\n"
          ]
        }
      ],
      "source": [
        "#finding  incorrect or irrelevant values in numerical columns\n",
        "print(\"Dependents minimum value: \",loanData['Dependents'].min())\n",
        "print(\"ApplicantIncome minimum value: \",loanData['ApplicantIncome'].min())\n",
        "print(\"CoapplicantIncome minimum value: \",loanData['CoapplicantIncome'].min())\n",
        "print(\"LoanAmount minimum value: \",loanData['LoanAmount'].min())\n",
        "print(\"Loan_Amount_Term minimum value: \",loanData['Loan_Amount_Term'].min())\n",
        "print(\"Credit_History minimum value: \",loanData['Credit_History'].min())\n"
      ]
    },
    {
      "cell_type": "markdown",
      "id": "339c113f",
      "metadata": {
        "id": "339c113f"
      },
      "source": [
        "# EDA"
      ]
    },
    {
      "cell_type": "code",
      "execution_count": null,
      "id": "3f0a9974",
      "metadata": {
        "id": "3f0a9974",
        "outputId": "8bb211d8-c6d6-4fad-8daa-3f15d27e6e40"
      },
      "outputs": [
        {
          "name": "stdout",
          "output_type": "stream",
          "text": [
            "        counts  percentage%\n",
            "Male       502    81.758958\n",
            "Female     112    18.241042\n"
          ]
        },
        {
          "data": {
            "text/plain": [
              "<AxesSubplot:xlabel='Gender', ylabel='count'>"
            ]
          },
          "execution_count": 132,
          "metadata": {},
          "output_type": "execute_result"
        },
        {
          "data": {
            "image/png": "[encoded data removed]",
            "text/plain": [
              "<Figure size 432x288 with 1 Axes>"
            ]
          },
          "metadata": {
            "needs_background": "light"
          },
          "output_type": "display_data"
        }
      ],
      "source": [
        "#Number of people who applied for a loan group by gender:\n",
        "c = loanData.Gender.value_counts()\n",
        "p = loanData.Gender.value_counts(normalize=True) * 100\n",
        "table=pd.concat([c,p], axis=1, keys=['counts', 'percentage%'])\n",
        "print(table)\n",
        "sns.countplot(x='Gender', data=loanData, palette = 'Set2')"
      ]
    },
    {
      "cell_type": "code",
      "execution_count": null,
      "id": "f95ef6fe",
      "metadata": {
        "id": "f95ef6fe",
        "outputId": "416ad332-ac64-4a24-bf04-380780385f0c"
      },
      "outputs": [
        {
          "name": "stdout",
          "output_type": "stream",
          "text": [
            "     counts  percentage%\n",
            "Yes     401    65.309446\n",
            "No      213    34.690554\n"
          ]
        },
        {
          "data": {
            "text/plain": [
              "<AxesSubplot:xlabel='Married', ylabel='count'>"
            ]
          },
          "execution_count": 133,
          "metadata": {},
          "output_type": "execute_result"
        },
        {
          "data": {
            "image/png": "[encoded data removed]",
            "text/plain": [
              "<Figure size 432x288 with 1 Axes>"
            ]
          },
          "metadata": {
            "needs_background": "light"
          },
          "output_type": "display_data"
        }
      ],
      "source": [
        "#Number of people who applied for a loan group by martial status:\n",
        "c = loanData.Married.value_counts()\n",
        "p = loanData.Married.value_counts(normalize=True) * 100\n",
        "table=pd.concat([c,p], axis=1, keys=['counts', 'percentage%'])\n",
        "print(table)\n",
        "sns.countplot(x='Married', data=loanData, palette = 'Set2')"
      ]
    },
    {
      "cell_type": "code",
      "execution_count": null,
      "id": "eea28ffa",
      "metadata": {
        "id": "eea28ffa",
        "outputId": "35e3c645-9816-4e13-c665-f11a3ac4b8a8"
      },
      "outputs": [
        {
          "name": "stdout",
          "output_type": "stream",
          "text": [
            "   counts  percentage%\n",
            "0     360    58.631922\n",
            "1     102    16.612378\n",
            "2     101    16.449511\n",
            "3      51     8.306189\n"
          ]
        },
        {
          "data": {
            "text/plain": [
              "<AxesSubplot:xlabel='Dependents', ylabel='count'>"
            ]
          },
          "execution_count": 134,
          "metadata": {},
          "output_type": "execute_result"
        },
        {
          "data": {
            "image/png": "[encoded data removed]",
            "text/plain": [
              "<Figure size 432x288 with 1 Axes>"
            ]
          },
          "metadata": {
            "needs_background": "light"
          },
          "output_type": "display_data"
        }
      ],
      "source": [
        "#Number of people who applied for a loan group by Dependents:\n",
        "c = loanData.Dependents.value_counts()\n",
        "p = loanData.Dependents.value_counts(normalize=True) * 100\n",
        "table=pd.concat([c,p], axis=1, keys=['counts', 'percentage%'])\n",
        "print(table)\n",
        "sns.countplot(x='Dependents', data=loanData, palette = 'Set2')"
      ]
    },
    {
      "cell_type": "code",
      "execution_count": null,
      "id": "9a7d967a",
      "metadata": {
        "id": "9a7d967a",
        "outputId": "6e1abbc6-8614-49c9-ebae-690ba01fede9"
      },
      "outputs": [
        {
          "name": "stdout",
          "output_type": "stream",
          "text": [
            "              counts  percentage%\n",
            "Graduate         480    78.175896\n",
            "Not Graduate     134    21.824104\n"
          ]
        },
        {
          "data": {
            "text/plain": [
              "<AxesSubplot:xlabel='Education', ylabel='count'>"
            ]
          },
          "execution_count": 135,
          "metadata": {},
          "output_type": "execute_result"
        },
        {
          "data": {
            "image/png": "[encoded data removed]",
            "text/plain": [
              "<Figure size 432x288 with 1 Axes>"
            ]
          },
          "metadata": {
            "needs_background": "light"
          },
          "output_type": "display_data"
        }
      ],
      "source": [
        "#Number of people who applied for a loan group by Education:\n",
        "c = loanData.Education.value_counts()\n",
        "p = loanData.Education.value_counts(normalize=True) * 100\n",
        "table=pd.concat([c,p], axis=1, keys=['counts', 'percentage%'])\n",
        "print(table)\n",
        "sns.countplot(x='Education', data=loanData, palette = 'Set2')"
      ]
    },
    {
      "cell_type": "code",
      "execution_count": null,
      "id": "9b5b33e4",
      "metadata": {
        "scrolled": true,
        "id": "9b5b33e4",
        "outputId": "57277a32-51e3-47fa-e6cb-51afd7dd8d9e"
      },
      "outputs": [
        {
          "name": "stdout",
          "output_type": "stream",
          "text": [
            "     counts  percentage%\n",
            "No      532    86.644951\n",
            "Yes      82    13.355049\n"
          ]
        },
        {
          "data": {
            "text/plain": [
              "<AxesSubplot:xlabel='Self_Employed', ylabel='count'>"
            ]
          },
          "execution_count": 136,
          "metadata": {},
          "output_type": "execute_result"
        },
        {
          "data": {
            "image/png": "[encoded data removed]",
            "text/plain": [
              "<Figure size 432x288 with 1 Axes>"
            ]
          },
          "metadata": {
            "needs_background": "light"
          },
          "output_type": "display_data"
        }
      ],
      "source": [
        "#Number of people who applied for a loan group by Self_Employed:\n",
        "c = loanData.Self_Employed.value_counts()\n",
        "p = loanData.Self_Employed.value_counts(normalize=True) * 100\n",
        "table=pd.concat([c,p], axis=1, keys=['counts', 'percentage%'])\n",
        "print(table)\n",
        "sns.countplot(x='Self_Employed', data=loanData, palette = 'Set2')"
      ]
    },
    {
      "cell_type": "code",
      "execution_count": null,
      "id": "3605b943",
      "metadata": {
        "id": "3605b943",
        "outputId": "6336b7ee-7003-4ac5-b83b-70c27ef64a4d"
      },
      "outputs": [
        {
          "data": {
            "image/png": "[encoded data removed]",
            "text/plain": [
              "<Figure size 432x288 with 1 Axes>"
            ]
          },
          "metadata": {
            "needs_background": "light"
          },
          "output_type": "display_data"
        }
      ],
      "source": [
        "#finding the range of all Applicants Income\n",
        "ax = loanData[\"ApplicantIncome\"].hist(density=True, color='blue', alpha=0.6)\n",
        "loanData[\"ApplicantIncome\"].plot(kind='density', color='blue')\n",
        "ax.set(xlabel='Applicant Income')\n",
        "plt.show()"
      ]
    },
    {
      "cell_type": "code",
      "execution_count": null,
      "id": "bb9781e4",
      "metadata": {
        "id": "bb9781e4",
        "outputId": "c54f1396-fcdb-4250-8876-0c1f35f03d2b"
      },
      "outputs": [
        {
          "data": {
            "image/png": "[encoded data removed]",
            "text/plain": [
              "<Figure size 432x288 with 1 Axes>"
            ]
          },
          "metadata": {
            "needs_background": "light"
          },
          "output_type": "display_data"
        }
      ],
      "source": [
        "#finding the range of Loan Amounts\n",
        "ax = loanData[\"LoanAmount\"].hist(density=True, stacked=True, color='blue', alpha=0.6)\n",
        "loanData[\"LoanAmount\"].plot(kind='density', color='blue')\n",
        "ax.set(xlabel='Loan Amount')\n",
        "plt.show()"
      ]
    },
    {
      "cell_type": "code",
      "execution_count": null,
      "id": "4ae0e172",
      "metadata": {
        "id": "4ae0e172",
        "outputId": "608876a0-555a-47e5-e816-0e262eaa8b13"
      },
      "outputs": [
        {
          "name": "stdout",
          "output_type": "stream",
          "text": [
            "       counts  percentage%\n",
            "360.0     526    85.667752\n",
            "180.0      44     7.166124\n",
            "480.0      15     2.442997\n",
            "300.0      13     2.117264\n",
            "240.0       4     0.651466\n",
            "84.0        4     0.651466\n",
            "120.0       3     0.488599\n",
            "60.0        2     0.325733\n",
            "36.0        2     0.325733\n",
            "12.0        1     0.162866\n"
          ]
        },
        {
          "data": {
            "text/plain": [
              "<AxesSubplot:xlabel='Loan_Amount_Term', ylabel='count'>"
            ]
          },
          "execution_count": 139,
          "metadata": {},
          "output_type": "execute_result"
        },
        {
          "data": {
            "image/png": "[encoded data removed]",
            "text/plain": [
              "<Figure size 432x288 with 1 Axes>"
            ]
          },
          "metadata": {
            "needs_background": "light"
          },
          "output_type": "display_data"
        }
      ],
      "source": [
        " #Number of people who applied for a loan group by Loan_Amount_Term:\n",
        "c = loanData.Loan_Amount_Term.value_counts()\n",
        "p = loanData.Loan_Amount_Term.value_counts(normalize=True) * 100\n",
        "table=pd.concat([c,p], axis=1, keys=['counts', 'percentage%'])\n",
        "print(table)\n",
        "sns.countplot(x='Loan_Amount_Term', data=loanData, palette = 'Set2')"
      ]
    },
    {
      "cell_type": "code",
      "execution_count": null,
      "id": "f0076e68",
      "metadata": {
        "id": "f0076e68",
        "outputId": "0bdc6681-d83d-4955-acfa-866a43237550"
      },
      "outputs": [
        {
          "name": "stdout",
          "output_type": "stream",
          "text": [
            "     counts  percentage%\n",
            "1.0     525    85.504886\n",
            "0.0      89    14.495114\n"
          ]
        },
        {
          "data": {
            "text/plain": [
              "<AxesSubplot:xlabel='Credit_History', ylabel='count'>"
            ]
          },
          "execution_count": 140,
          "metadata": {},
          "output_type": "execute_result"
        },
        {
          "data": {
            "image/png": "[encoded data removed]",
            "text/plain": [
              "<Figure size 432x288 with 1 Axes>"
            ]
          },
          "metadata": {
            "needs_background": "light"
          },
          "output_type": "display_data"
        }
      ],
      "source": [
        "#Number of people who applied for a loan group by Credit_History:\n",
        "c = loanData.Credit_History.value_counts()\n",
        "p = loanData.Credit_History.value_counts(normalize=True) * 100\n",
        "table=pd.concat([c,p], axis=1, keys=['counts', 'percentage%'])\n",
        "print(table)\n",
        "sns.countplot(x='Credit_History', data=loanData, palette = 'Set2')"
      ]
    },
    {
      "cell_type": "code",
      "execution_count": null,
      "id": "24d8ab6b",
      "metadata": {
        "scrolled": false,
        "id": "24d8ab6b",
        "outputId": "508dcafc-8cf5-4c59-abdf-910c45e327c0"
      },
      "outputs": [
        {
          "name": "stdout",
          "output_type": "stream",
          "text": [
            "   counts  percentage%\n",
            "Y     422    68.729642\n",
            "N     192    31.270358\n"
          ]
        },
        {
          "data": {
            "text/plain": [
              "<AxesSubplot:xlabel='Loan_Status', ylabel='count'>"
            ]
          },
          "execution_count": 141,
          "metadata": {},
          "output_type": "execute_result"
        },
        {
          "data": {
            "image/png": "[encoded data removed]",
            "text/plain": [
              "<Figure size 432x288 with 1 Axes>"
            ]
          },
          "metadata": {
            "needs_background": "light"
          },
          "output_type": "display_data"
        }
      ],
      "source": [
        "#Number of approved and declined loans:\n",
        "c = loanData.Loan_Status.value_counts()\n",
        "p = loanData.Loan_Status.value_counts(normalize=True) * 100\n",
        "table=pd.concat([c,p], axis=1, keys=['counts', 'percentage%'])\n",
        "print(table)\n",
        "sns.countplot(x='Loan_Status', data=loanData, palette = 'Set2')"
      ]
    },
    {
      "cell_type": "markdown",
      "id": "37fe5eca",
      "metadata": {
        "id": "37fe5eca"
      },
      "source": [
        "# Necessary feature engineering"
      ]
    },
    {
      "cell_type": "code",
      "execution_count": null,
      "id": "51029d69",
      "metadata": {
        "id": "51029d69",
        "outputId": "0be24b18-ffb2-4e4a-d928-90fe5e172a6e"
      },
      "outputs": [
        {
          "name": "stdout",
          "output_type": "stream",
          "text": [
            "<class 'pandas.core.frame.DataFrame'>\n",
            "RangeIndex: 614 entries, 0 to 613\n",
            "Data columns (total 13 columns):\n",
            " #   Column             Non-Null Count  Dtype  \n",
            "---  ------             --------------  -----  \n",
            " 0   Loan_ID            614 non-null    object \n",
            " 1   Gender             614 non-null    int64  \n",
            " 2   Married            614 non-null    object \n",
            " 3   Dependents         614 non-null    int64  \n",
            " 4   Education          614 non-null    object \n",
            " 5   Self_Employed      614 non-null    object \n",
            " 6   ApplicantIncome    614 non-null    int64  \n",
            " 7   CoapplicantIncome  614 non-null    float64\n",
            " 8   LoanAmount         614 non-null    float64\n",
            " 9   Loan_Amount_Term   614 non-null    float64\n",
            " 10  Credit_History     614 non-null    float64\n",
            " 11  Property_Area      614 non-null    object \n",
            " 12  Loan_Status        614 non-null    object \n",
            "dtypes: float64(4), int64(3), object(6)\n",
            "memory usage: 62.5+ KB\n"
          ]
        }
      ],
      "source": [
        "#Convert  Gender data type to int64\n",
        "gender_con = {\"Female\": 0, \"Male\": 1}\n",
        "loanData['Gender'].replace(gender_con,inplace=True)\n",
        "loanData.info()"
      ]
    },
    {
      "cell_type": "code",
      "execution_count": null,
      "id": "3323263d",
      "metadata": {
        "id": "3323263d",
        "outputId": "657ed2a7-1498-41b6-da29-0ca084d9cdf9"
      },
      "outputs": [
        {
          "name": "stdout",
          "output_type": "stream",
          "text": [
            "<class 'pandas.core.frame.DataFrame'>\n",
            "RangeIndex: 614 entries, 0 to 613\n",
            "Data columns (total 13 columns):\n",
            " #   Column             Non-Null Count  Dtype  \n",
            "---  ------             --------------  -----  \n",
            " 0   Loan_ID            614 non-null    object \n",
            " 1   Gender             614 non-null    int64  \n",
            " 2   Married            614 non-null    int64  \n",
            " 3   Dependents         614 non-null    int64  \n",
            " 4   Education          614 non-null    object \n",
            " 5   Self_Employed      614 non-null    object \n",
            " 6   ApplicantIncome    614 non-null    int64  \n",
            " 7   CoapplicantIncome  614 non-null    float64\n",
            " 8   LoanAmount         614 non-null    float64\n",
            " 9   Loan_Amount_Term   614 non-null    float64\n",
            " 10  Credit_History     614 non-null    float64\n",
            " 11  Property_Area      614 non-null    object \n",
            " 12  Loan_Status        614 non-null    object \n",
            "dtypes: float64(4), int64(4), object(5)\n",
            "memory usage: 62.5+ KB\n"
          ]
        }
      ],
      "source": [
        "#Convert Married data type to int64\n",
        "Married_con = {'No' : 0,'Yes' : 1}\n",
        "loanData['Married'].replace(Married_con,inplace=True)\n",
        "loanData.info()"
      ]
    },
    {
      "cell_type": "code",
      "execution_count": null,
      "id": "1826b02c",
      "metadata": {
        "id": "1826b02c",
        "outputId": "f8fff0b3-2f49-41cc-dab4-cd02f19080e0"
      },
      "outputs": [
        {
          "name": "stdout",
          "output_type": "stream",
          "text": [
            "<class 'pandas.core.frame.DataFrame'>\n",
            "RangeIndex: 614 entries, 0 to 613\n",
            "Data columns (total 13 columns):\n",
            " #   Column             Non-Null Count  Dtype  \n",
            "---  ------             --------------  -----  \n",
            " 0   Loan_ID            614 non-null    object \n",
            " 1   Gender             614 non-null    int64  \n",
            " 2   Married            614 non-null    int64  \n",
            " 3   Dependents         614 non-null    int64  \n",
            " 4   Education          614 non-null    int64  \n",
            " 5   Self_Employed      614 non-null    object \n",
            " 6   ApplicantIncome    614 non-null    int64  \n",
            " 7   CoapplicantIncome  614 non-null    float64\n",
            " 8   LoanAmount         614 non-null    float64\n",
            " 9   Loan_Amount_Term   614 non-null    float64\n",
            " 10  Credit_History     614 non-null    float64\n",
            " 11  Property_Area      614 non-null    object \n",
            " 12  Loan_Status        614 non-null    object \n",
            "dtypes: float64(4), int64(5), object(4)\n",
            "memory usage: 62.5+ KB\n"
          ]
        }
      ],
      "source": [
        "#Convert Education data type to int64\n",
        "education_con = {'Not Graduate' : 0, 'Graduate' : 1}\n",
        "loanData['Education'].replace(education_con,inplace=True)\n",
        "loanData.info()"
      ]
    },
    {
      "cell_type": "code",
      "execution_count": null,
      "id": "2b2e53e9",
      "metadata": {
        "id": "2b2e53e9",
        "outputId": "dac24da4-45c1-4dbd-d77c-5efe01f7b5ce"
      },
      "outputs": [
        {
          "name": "stdout",
          "output_type": "stream",
          "text": [
            "<class 'pandas.core.frame.DataFrame'>\n",
            "RangeIndex: 614 entries, 0 to 613\n",
            "Data columns (total 13 columns):\n",
            " #   Column             Non-Null Count  Dtype  \n",
            "---  ------             --------------  -----  \n",
            " 0   Loan_ID            614 non-null    object \n",
            " 1   Gender             614 non-null    int64  \n",
            " 2   Married            614 non-null    int64  \n",
            " 3   Dependents         614 non-null    int64  \n",
            " 4   Education          614 non-null    int64  \n",
            " 5   Self_Employed      614 non-null    object \n",
            " 6   ApplicantIncome    614 non-null    int64  \n",
            " 7   CoapplicantIncome  614 non-null    float64\n",
            " 8   LoanAmount         614 non-null    float64\n",
            " 9   Loan_Amount_Term   614 non-null    float64\n",
            " 10  Credit_History     614 non-null    float64\n",
            " 11  Property_Area      614 non-null    int64  \n",
            " 12  Loan_Status        614 non-null    object \n",
            "dtypes: float64(4), int64(6), object(3)\n",
            "memory usage: 62.5+ KB\n"
          ]
        }
      ],
      "source": [
        "#Convert Property_Area data type to int64\n",
        "property_con = {'Semiurban' : 0, 'Urban' : 1,'Rural' : 2}\n",
        "loanData['Property_Area'].replace(property_con,inplace=True)\n",
        "loanData.info()"
      ]
    },
    {
      "cell_type": "code",
      "execution_count": null,
      "id": "bc6f4202",
      "metadata": {
        "scrolled": true,
        "id": "bc6f4202",
        "outputId": "bbb1325f-5857-4e4d-ec65-9081ea99df18"
      },
      "outputs": [
        {
          "name": "stdout",
          "output_type": "stream",
          "text": [
            "<class 'pandas.core.frame.DataFrame'>\n",
            "RangeIndex: 614 entries, 0 to 613\n",
            "Data columns (total 13 columns):\n",
            " #   Column             Non-Null Count  Dtype  \n",
            "---  ------             --------------  -----  \n",
            " 0   Loan_ID            614 non-null    object \n",
            " 1   Gender             614 non-null    int64  \n",
            " 2   Married            614 non-null    int64  \n",
            " 3   Dependents         614 non-null    int64  \n",
            " 4   Education          614 non-null    int64  \n",
            " 5   Self_Employed      614 non-null    int64  \n",
            " 6   ApplicantIncome    614 non-null    int64  \n",
            " 7   CoapplicantIncome  614 non-null    float64\n",
            " 8   LoanAmount         614 non-null    float64\n",
            " 9   Loan_Amount_Term   614 non-null    float64\n",
            " 10  Credit_History     614 non-null    float64\n",
            " 11  Property_Area      614 non-null    int64  \n",
            " 12  Loan_Status        614 non-null    object \n",
            "dtypes: float64(4), int64(7), object(2)\n",
            "memory usage: 62.5+ KB\n"
          ]
        }
      ],
      "source": [
        "#Convert Self_Employed data type to int64\n",
        "Self_Employed_con = {'No' : 0,'Yes' : 1}\n",
        "loanData['Self_Employed'].replace(Self_Employed_con,inplace=True)\n",
        "loanData.info()"
      ]
    },
    {
      "cell_type": "code",
      "execution_count": null,
      "id": "862ffcee",
      "metadata": {
        "id": "862ffcee",
        "outputId": "96c04a90-5df3-4921-e749-157c1d641c9b"
      },
      "outputs": [
        {
          "name": "stdout",
          "output_type": "stream",
          "text": [
            "<class 'pandas.core.frame.DataFrame'>\n",
            "RangeIndex: 614 entries, 0 to 613\n",
            "Data columns (total 13 columns):\n",
            " #   Column             Non-Null Count  Dtype  \n",
            "---  ------             --------------  -----  \n",
            " 0   Loan_ID            614 non-null    object \n",
            " 1   Gender             614 non-null    int64  \n",
            " 2   Married            614 non-null    int64  \n",
            " 3   Dependents         614 non-null    int64  \n",
            " 4   Education          614 non-null    int64  \n",
            " 5   Self_Employed      614 non-null    int64  \n",
            " 6   ApplicantIncome    614 non-null    int64  \n",
            " 7   CoapplicantIncome  614 non-null    float64\n",
            " 8   LoanAmount         614 non-null    float64\n",
            " 9   Loan_Amount_Term   614 non-null    float64\n",
            " 10  Credit_History     614 non-null    float64\n",
            " 11  Property_Area      614 non-null    int64  \n",
            " 12  Loan_Status        614 non-null    int64  \n",
            "dtypes: float64(4), int64(8), object(1)\n",
            "memory usage: 62.5+ KB\n"
          ]
        }
      ],
      "source": [
        "#Convert Loan_Status data type to int64\n",
        "Loan_Status_con = {'N' : 0,'Y' : 1}\n",
        "loanData['Loan_Status'].replace(Loan_Status_con,inplace=True)\n",
        "loanData.info()"
      ]
    },
    {
      "cell_type": "code",
      "execution_count": null,
      "id": "19e8782b",
      "metadata": {
        "id": "19e8782b",
        "outputId": "7a443e5c-b35f-4442-f60e-07b2454f764f"
      },
      "outputs": [
        {
          "name": "stdout",
          "output_type": "stream",
          "text": [
            "     ApplicantIncome  CoapplicantIncome  LoanAmount  Loan_Amount_Term\n",
            "0               5849                0.0      146.41             360.0\n",
            "1               4583             1508.0      128.00             360.0\n",
            "2               3000                0.0       66.00             360.0\n",
            "3               2583             2358.0      120.00             360.0\n",
            "4               6000                0.0      141.00             360.0\n",
            "..               ...                ...         ...               ...\n",
            "609             2900                0.0       71.00             360.0\n",
            "610             4106                0.0       40.00             180.0\n",
            "611             8072              240.0      253.00             360.0\n",
            "612             7583                0.0      187.00             360.0\n",
            "613             4583                0.0      133.00             360.0\n",
            "\n",
            "[614 rows x 4 columns]\n",
            "     ApplicantIncome  CoapplicantIncome  LoanAmount  Loan_Amount_Term\n",
            "0           0.070489           0.000000    0.198857          0.743590\n",
            "1           0.054830           0.036192    0.172214          0.743590\n",
            "2           0.035250           0.000000    0.082489          0.743590\n",
            "3           0.030093           0.056592    0.160637          0.743590\n",
            "4           0.072356           0.000000    0.191027          0.743590\n",
            "..               ...                ...         ...               ...\n",
            "609         0.034014           0.000000    0.089725          0.743590\n",
            "610         0.048930           0.000000    0.044863          0.358974\n",
            "611         0.097984           0.005760    0.353111          0.743590\n",
            "612         0.091936           0.000000    0.257598          0.743590\n",
            "613         0.054830           0.000000    0.179450          0.743590\n",
            "\n",
            "[614 rows x 4 columns]\n",
            "      Loan_ID  Gender  Married  Dependents  Education  Self_Employed  \\\n",
            "0    LP001002       1        0           0          1              0   \n",
            "1    LP001003       1        1           1          1              0   \n",
            "2    LP001005       1        1           0          1              1   \n",
            "3    LP001006       1        1           0          0              0   \n",
            "4    LP001008       1        0           0          1              0   \n",
            "..        ...     ...      ...         ...        ...            ...   \n",
            "609  LP002978       0        0           0          1              0   \n",
            "610  LP002979       1        1           3          1              0   \n",
            "611  LP002983       1        1           1          1              0   \n",
            "612  LP002984       1        1           2          1              0   \n",
            "613  LP002990       0        0           0          1              1   \n",
            "\n",
            "     Credit_History  Property_Area  Loan_Status  \n",
            "0               1.0              1            1  \n",
            "1               1.0              2            0  \n",
            "2               1.0              1            1  \n",
            "3               1.0              1            1  \n",
            "4               1.0              1            1  \n",
            "..              ...            ...          ...  \n",
            "609             1.0              2            1  \n",
            "610             1.0              2            1  \n",
            "611             1.0              1            1  \n",
            "612             1.0              1            1  \n",
            "613             0.0              0            0  \n",
            "\n",
            "[614 rows x 9 columns]\n"
          ]
        },
        {
          "data": {
            "text/html": [
              "<div>\n",
              "<style scoped>\n",
              "    .dataframe tbody tr th:only-of-type {\n",
              "        vertical-align: middle;\n",
              "    }\n",
              "\n",
              "    .dataframe tbody tr th {\n",
              "        vertical-align: top;\n",
              "    }\n",
              "\n",
              "    .dataframe thead th {\n",
              "        text-align: right;\n",
              "    }\n",
              "</style>\n",
              "<table border=\"1\" class=\"dataframe\">\n",
              "  <thead>\n",
              "    <tr style=\"text-align: right;\">\n",
              "      <th></th>\n",
              "      <th>ApplicantIncome</th>\n",
              "      <th>CoapplicantIncome</th>\n",
              "      <th>LoanAmount</th>\n",
              "      <th>Loan_Amount_Term</th>\n",
              "      <th>Loan_ID</th>\n",
              "      <th>Gender</th>\n",
              "      <th>Married</th>\n",
              "      <th>Dependents</th>\n",
              "      <th>Education</th>\n",
              "      <th>Self_Employed</th>\n",
              "      <th>Credit_History</th>\n",
              "      <th>Property_Area</th>\n",
              "      <th>Loan_Status</th>\n",
              "    </tr>\n",
              "  </thead>\n",
              "  <tbody>\n",
              "    <tr>\n",
              "      <th>0</th>\n",
              "      <td>0.070489</td>\n",
              "      <td>0.000000</td>\n",
              "      <td>0.198857</td>\n",
              "      <td>0.743590</td>\n",
              "      <td>LP001002</td>\n",
              "      <td>1</td>\n",
              "      <td>0</td>\n",
              "      <td>0</td>\n",
              "      <td>1</td>\n",
              "      <td>0</td>\n",
              "      <td>1.0</td>\n",
              "      <td>1</td>\n",
              "      <td>1</td>\n",
              "    </tr>\n",
              "    <tr>\n",
              "      <th>1</th>\n",
              "      <td>0.054830</td>\n",
              "      <td>0.036192</td>\n",
              "      <td>0.172214</td>\n",
              "      <td>0.743590</td>\n",
              "      <td>LP001003</td>\n",
              "      <td>1</td>\n",
              "      <td>1</td>\n",
              "      <td>1</td>\n",
              "      <td>1</td>\n",
              "      <td>0</td>\n",
              "      <td>1.0</td>\n",
              "      <td>2</td>\n",
              "      <td>0</td>\n",
              "    </tr>\n",
              "    <tr>\n",
              "      <th>2</th>\n",
              "      <td>0.035250</td>\n",
              "      <td>0.000000</td>\n",
              "      <td>0.082489</td>\n",
              "      <td>0.743590</td>\n",
              "      <td>LP001005</td>\n",
              "      <td>1</td>\n",
              "      <td>1</td>\n",
              "      <td>0</td>\n",
              "      <td>1</td>\n",
              "      <td>1</td>\n",
              "      <td>1.0</td>\n",
              "      <td>1</td>\n",
              "      <td>1</td>\n",
              "    </tr>\n",
              "    <tr>\n",
              "      <th>3</th>\n",
              "      <td>0.030093</td>\n",
              "      <td>0.056592</td>\n",
              "      <td>0.160637</td>\n",
              "      <td>0.743590</td>\n",
              "      <td>LP001006</td>\n",
              "      <td>1</td>\n",
              "      <td>1</td>\n",
              "      <td>0</td>\n",
              "      <td>0</td>\n",
              "      <td>0</td>\n",
              "      <td>1.0</td>\n",
              "      <td>1</td>\n",
              "      <td>1</td>\n",
              "    </tr>\n",
              "    <tr>\n",
              "      <th>4</th>\n",
              "      <td>0.072356</td>\n",
              "      <td>0.000000</td>\n",
              "      <td>0.191027</td>\n",
              "      <td>0.743590</td>\n",
              "      <td>LP001008</td>\n",
              "      <td>1</td>\n",
              "      <td>0</td>\n",
              "      <td>0</td>\n",
              "      <td>1</td>\n",
              "      <td>0</td>\n",
              "      <td>1.0</td>\n",
              "      <td>1</td>\n",
              "      <td>1</td>\n",
              "    </tr>\n",
              "    <tr>\n",
              "      <th>...</th>\n",
              "      <td>...</td>\n",
              "      <td>...</td>\n",
              "      <td>...</td>\n",
              "      <td>...</td>\n",
              "      <td>...</td>\n",
              "      <td>...</td>\n",
              "      <td>...</td>\n",
              "      <td>...</td>\n",
              "      <td>...</td>\n",
              "      <td>...</td>\n",
              "      <td>...</td>\n",
              "      <td>...</td>\n",
              "      <td>...</td>\n",
              "    </tr>\n",
              "    <tr>\n",
              "      <th>609</th>\n",
              "      <td>0.034014</td>\n",
              "      <td>0.000000</td>\n",
              "      <td>0.089725</td>\n",
              "      <td>0.743590</td>\n",
              "      <td>LP002978</td>\n",
              "      <td>0</td>\n",
              "      <td>0</td>\n",
              "      <td>0</td>\n",
              "      <td>1</td>\n",
              "      <td>0</td>\n",
              "      <td>1.0</td>\n",
              "      <td>2</td>\n",
              "      <td>1</td>\n",
              "    </tr>\n",
              "    <tr>\n",
              "      <th>610</th>\n",
              "      <td>0.048930</td>\n",
              "      <td>0.000000</td>\n",
              "      <td>0.044863</td>\n",
              "      <td>0.358974</td>\n",
              "      <td>LP002979</td>\n",
              "      <td>1</td>\n",
              "      <td>1</td>\n",
              "      <td>3</td>\n",
              "      <td>1</td>\n",
              "      <td>0</td>\n",
              "      <td>1.0</td>\n",
              "      <td>2</td>\n",
              "      <td>1</td>\n",
              "    </tr>\n",
              "    <tr>\n",
              "      <th>611</th>\n",
              "      <td>0.097984</td>\n",
              "      <td>0.005760</td>\n",
              "      <td>0.353111</td>\n",
              "      <td>0.743590</td>\n",
              "      <td>LP002983</td>\n",
              "      <td>1</td>\n",
              "      <td>1</td>\n",
              "      <td>1</td>\n",
              "      <td>1</td>\n",
              "      <td>0</td>\n",
              "      <td>1.0</td>\n",
              "      <td>1</td>\n",
              "      <td>1</td>\n",
              "    </tr>\n",
              "    <tr>\n",
              "      <th>612</th>\n",
              "      <td>0.091936</td>\n",
              "      <td>0.000000</td>\n",
              "      <td>0.257598</td>\n",
              "      <td>0.743590</td>\n",
              "      <td>LP002984</td>\n",
              "      <td>1</td>\n",
              "      <td>1</td>\n",
              "      <td>2</td>\n",
              "      <td>1</td>\n",
              "      <td>0</td>\n",
              "      <td>1.0</td>\n",
              "      <td>1</td>\n",
              "      <td>1</td>\n",
              "    </tr>\n",
              "    <tr>\n",
              "      <th>613</th>\n",
              "      <td>0.054830</td>\n",
              "      <td>0.000000</td>\n",
              "      <td>0.179450</td>\n",
              "      <td>0.743590</td>\n",
              "      <td>LP002990</td>\n",
              "      <td>0</td>\n",
              "      <td>0</td>\n",
              "      <td>0</td>\n",
              "      <td>1</td>\n",
              "      <td>1</td>\n",
              "      <td>0.0</td>\n",
              "      <td>0</td>\n",
              "      <td>0</td>\n",
              "    </tr>\n",
              "  </tbody>\n",
              "</table>\n",
              "<p>614 rows × 13 columns</p>\n",
              "</div>"
            ],
            "text/plain": [
              "     ApplicantIncome  CoapplicantIncome  LoanAmount  Loan_Amount_Term  \\\n",
              "0           0.070489           0.000000    0.198857          0.743590   \n",
              "1           0.054830           0.036192    0.172214          0.743590   \n",
              "2           0.035250           0.000000    0.082489          0.743590   \n",
              "3           0.030093           0.056592    0.160637          0.743590   \n",
              "4           0.072356           0.000000    0.191027          0.743590   \n",
              "..               ...                ...         ...               ...   \n",
              "609         0.034014           0.000000    0.089725          0.743590   \n",
              "610         0.048930           0.000000    0.044863          0.358974   \n",
              "611         0.097984           0.005760    0.353111          0.743590   \n",
              "612         0.091936           0.000000    0.257598          0.743590   \n",
              "613         0.054830           0.000000    0.179450          0.743590   \n",
              "\n",
              "      Loan_ID  Gender  Married  Dependents  Education  Self_Employed  \\\n",
              "0    LP001002       1        0           0          1              0   \n",
              "1    LP001003       1        1           1          1              0   \n",
              "2    LP001005       1        1           0          1              1   \n",
              "3    LP001006       1        1           0          0              0   \n",
              "4    LP001008       1        0           0          1              0   \n",
              "..        ...     ...      ...         ...        ...            ...   \n",
              "609  LP002978       0        0           0          1              0   \n",
              "610  LP002979       1        1           3          1              0   \n",
              "611  LP002983       1        1           1          1              0   \n",
              "612  LP002984       1        1           2          1              0   \n",
              "613  LP002990       0        0           0          1              1   \n",
              "\n",
              "     Credit_History  Property_Area  Loan_Status  \n",
              "0               1.0              1            1  \n",
              "1               1.0              2            0  \n",
              "2               1.0              1            1  \n",
              "3               1.0              1            1  \n",
              "4               1.0              1            1  \n",
              "..              ...            ...          ...  \n",
              "609             1.0              2            1  \n",
              "610             1.0              2            1  \n",
              "611             1.0              1            1  \n",
              "612             1.0              1            1  \n",
              "613             0.0              0            0  \n",
              "\n",
              "[614 rows x 13 columns]"
            ]
          },
          "execution_count": 148,
          "metadata": {},
          "output_type": "execute_result"
        }
      ],
      "source": [
        "#in this code we performed normalization using min-max approach\n",
        "#normalization was applied on a copy of the dataset which is loanData2 in case we needed it in the classification part\n",
        "\n",
        "Copy1=loanData.copy()\n",
        "Copy2=loanData.copy()\n",
        "\n",
        "Copy1=Copy1.drop(Copy1.columns[[0,1,2,3,4,5,10,11,12]],axis = 1)\n",
        "print(Copy1)\n",
        "\n",
        "for column in Copy1.columns:\n",
        "    Copy1[column]=(Copy1[column]- Copy1[column].min())/(Copy1[column].max()- Copy1[column].min())\n",
        "\n",
        "print(Copy1)\n",
        "\n",
        "Copy2=Copy2.drop(Copy2.columns[[6,7,8,9]],axis = 1)\n",
        "print(Copy2)\n",
        "\n",
        "loanData2 = pd.concat([Copy1, Copy2], axis=1)\n",
        "loanData2"
      ]
    },
    {
      "cell_type": "markdown",
      "id": "c593a250",
      "metadata": {
        "id": "c593a250"
      },
      "source": [
        "# Relationships and correlation"
      ]
    },
    {
      "cell_type": "code",
      "execution_count": null,
      "id": "7eae2696",
      "metadata": {
        "id": "7eae2696",
        "outputId": "a333cb9a-68b3-4e36-c94b-b7a69137fccd"
      },
      "outputs": [
        {
          "data": {
            "text/plain": [
              "<AxesSubplot:>"
            ]
          },
          "execution_count": 21,
          "metadata": {},
          "output_type": "execute_result"
        },
        {
          "data": {
            "image/png": "[encoded data removed]",
            "text/plain": [
              "<Figure size 720x360 with 2 Axes>"
            ]
          },
          "metadata": {
            "needs_background": "light"
          },
          "output_type": "display_data"
        }
      ],
      "source": [
        "#plotting correlations values between all variables and target class which is Loan_Status\n",
        "plt.figure(figsize=(10,5))\n",
        "sns.heatmap(loanData.corr(), annot=True)"
      ]
    },
    {
      "cell_type": "code",
      "execution_count": null,
      "id": "df2a840d",
      "metadata": {
        "scrolled": true,
        "id": "df2a840d",
        "outputId": "3a1b0b31-5964-4dee-8af0-81d622470a5f"
      },
      "outputs": [
        {
          "data": {
            "text/html": [
              "<div>\n",
              "<style scoped>\n",
              "    .dataframe tbody tr th:only-of-type {\n",
              "        vertical-align: middle;\n",
              "    }\n",
              "\n",
              "    .dataframe tbody tr th {\n",
              "        vertical-align: top;\n",
              "    }\n",
              "\n",
              "    .dataframe thead th {\n",
              "        text-align: right;\n",
              "    }\n",
              "</style>\n",
              "<table border=\"1\" class=\"dataframe\">\n",
              "  <thead>\n",
              "    <tr style=\"text-align: right;\">\n",
              "      <th></th>\n",
              "      <th>Loan_Status</th>\n",
              "    </tr>\n",
              "  </thead>\n",
              "  <tbody>\n",
              "    <tr>\n",
              "      <th>Loan_Status</th>\n",
              "      <td>1.000000</td>\n",
              "    </tr>\n",
              "    <tr>\n",
              "      <th>Credit_History</th>\n",
              "      <td>0.540556</td>\n",
              "    </tr>\n",
              "    <tr>\n",
              "      <th>Married</th>\n",
              "      <td>0.091478</td>\n",
              "    </tr>\n",
              "    <tr>\n",
              "      <th>Education</th>\n",
              "      <td>0.085884</td>\n",
              "    </tr>\n",
              "    <tr>\n",
              "      <th>Gender</th>\n",
              "      <td>0.017987</td>\n",
              "    </tr>\n",
              "    <tr>\n",
              "      <th>Dependents</th>\n",
              "      <td>0.010118</td>\n",
              "    </tr>\n",
              "    <tr>\n",
              "      <th>Self_Employed</th>\n",
              "      <td>-0.003700</td>\n",
              "    </tr>\n",
              "    <tr>\n",
              "      <th>ApplicantIncome</th>\n",
              "      <td>-0.004710</td>\n",
              "    </tr>\n",
              "    <tr>\n",
              "      <th>Loan_Amount_Term</th>\n",
              "      <td>-0.022549</td>\n",
              "    </tr>\n",
              "    <tr>\n",
              "      <th>LoanAmount</th>\n",
              "      <td>-0.036416</td>\n",
              "    </tr>\n",
              "    <tr>\n",
              "      <th>CoapplicantIncome</th>\n",
              "      <td>-0.059187</td>\n",
              "    </tr>\n",
              "    <tr>\n",
              "      <th>Property_Area</th>\n",
              "      <td>-0.137545</td>\n",
              "    </tr>\n",
              "  </tbody>\n",
              "</table>\n",
              "</div>"
            ],
            "text/plain": [
              "                   Loan_Status\n",
              "Loan_Status           1.000000\n",
              "Credit_History        0.540556\n",
              "Married               0.091478\n",
              "Education             0.085884\n",
              "Gender                0.017987\n",
              "Dependents            0.010118\n",
              "Self_Employed        -0.003700\n",
              "ApplicantIncome      -0.004710\n",
              "Loan_Amount_Term     -0.022549\n",
              "LoanAmount           -0.036416\n",
              "CoapplicantIncome    -0.059187\n",
              "Property_Area        -0.137545"
            ]
          },
          "execution_count": 22,
          "metadata": {},
          "output_type": "execute_result"
        }
      ],
      "source": [
        "loanData.corr()[['Loan_Status']].sort_values(by='Loan_Status',ascending=False) #Finding correlation with the target class loan_status"
      ]
    },
    {
      "cell_type": "code",
      "execution_count": null,
      "id": "282d637d",
      "metadata": {
        "id": "282d637d",
        "outputId": "428e56eb-997a-472a-a434-c538dc4c791d"
      },
      "outputs": [
        {
          "data": {
            "text/html": [
              "<div>\n",
              "<style scoped>\n",
              "    .dataframe tbody tr th:only-of-type {\n",
              "        vertical-align: middle;\n",
              "    }\n",
              "\n",
              "    .dataframe tbody tr th {\n",
              "        vertical-align: top;\n",
              "    }\n",
              "\n",
              "    .dataframe thead th {\n",
              "        text-align: right;\n",
              "    }\n",
              "</style>\n",
              "<table border=\"1\" class=\"dataframe\">\n",
              "  <thead>\n",
              "    <tr style=\"text-align: right;\">\n",
              "      <th></th>\n",
              "      <th></th>\n",
              "      <th>count</th>\n",
              "      <th>%</th>\n",
              "    </tr>\n",
              "    <tr>\n",
              "      <th>Gender</th>\n",
              "      <th>Loan_Status</th>\n",
              "      <th></th>\n",
              "      <th></th>\n",
              "    </tr>\n",
              "  </thead>\n",
              "  <tbody>\n",
              "    <tr>\n",
              "      <th rowspan=\"2\" valign=\"top\">0</th>\n",
              "      <th>1</th>\n",
              "      <td>75</td>\n",
              "      <td>66.964286</td>\n",
              "    </tr>\n",
              "    <tr>\n",
              "      <th>0</th>\n",
              "      <td>37</td>\n",
              "      <td>33.035714</td>\n",
              "    </tr>\n",
              "    <tr>\n",
              "      <th rowspan=\"2\" valign=\"top\">1</th>\n",
              "      <th>1</th>\n",
              "      <td>347</td>\n",
              "      <td>69.123506</td>\n",
              "    </tr>\n",
              "    <tr>\n",
              "      <th>0</th>\n",
              "      <td>155</td>\n",
              "      <td>30.876494</td>\n",
              "    </tr>\n",
              "  </tbody>\n",
              "</table>\n",
              "</div>"
            ],
            "text/plain": [
              "                    count          %\n",
              "Gender Loan_Status                  \n",
              "0      1               75  66.964286\n",
              "       0               37  33.035714\n",
              "1      1              347  69.123506\n",
              "       0              155  30.876494"
            ]
          },
          "execution_count": 23,
          "metadata": {},
          "output_type": "execute_result"
        }
      ],
      "source": [
        "ss=loanData.groupby('Gender')['Loan_Status'].value_counts(normalize=False)\n",
        "ee=loanData.groupby('Gender')['Loan_Status'].value_counts(normalize=True)*100\n",
        "pd.concat([ss,ee], axis=1 , keys=['count','%']) ##calculate the percentage of the Loan_Status for each Gender"
      ]
    },
    {
      "cell_type": "code",
      "execution_count": null,
      "id": "4458c724",
      "metadata": {
        "scrolled": false,
        "id": "4458c724",
        "outputId": "3bc98c53-5038-42a2-ae7c-3d04b02c6e2c"
      },
      "outputs": [
        {
          "data": {
            "image/png": "[encoded data removed]",
            "text/plain": [
              "<Figure size 432x288 with 1 Axes>"
            ]
          },
          "metadata": {
            "needs_background": "light"
          },
          "output_type": "display_data"
        }
      ],
      "source": [
        "#the relationship between the Loan_Status and  gender and we can see male have more accepted loan\n",
        "sns.countplot(x='Gender', data=loanData,hue='Loan_Status');"
      ]
    },
    {
      "cell_type": "code",
      "execution_count": null,
      "id": "626777a9",
      "metadata": {
        "id": "626777a9",
        "outputId": "fd41f448-20b9-4f5e-e88a-4d6e8326e111"
      },
      "outputs": [
        {
          "data": {
            "text/html": [
              "<div>\n",
              "<style scoped>\n",
              "    .dataframe tbody tr th:only-of-type {\n",
              "        vertical-align: middle;\n",
              "    }\n",
              "\n",
              "    .dataframe tbody tr th {\n",
              "        vertical-align: top;\n",
              "    }\n",
              "\n",
              "    .dataframe thead th {\n",
              "        text-align: right;\n",
              "    }\n",
              "</style>\n",
              "<table border=\"1\" class=\"dataframe\">\n",
              "  <thead>\n",
              "    <tr style=\"text-align: right;\">\n",
              "      <th></th>\n",
              "      <th></th>\n",
              "      <th>count</th>\n",
              "      <th>%</th>\n",
              "    </tr>\n",
              "    <tr>\n",
              "      <th>Married</th>\n",
              "      <th>Loan_Status</th>\n",
              "      <th></th>\n",
              "      <th></th>\n",
              "    </tr>\n",
              "  </thead>\n",
              "  <tbody>\n",
              "    <tr>\n",
              "      <th rowspan=\"2\" valign=\"top\">0</th>\n",
              "      <th>1</th>\n",
              "      <td>134</td>\n",
              "      <td>62.910798</td>\n",
              "    </tr>\n",
              "    <tr>\n",
              "      <th>0</th>\n",
              "      <td>79</td>\n",
              "      <td>37.089202</td>\n",
              "    </tr>\n",
              "    <tr>\n",
              "      <th rowspan=\"2\" valign=\"top\">1</th>\n",
              "      <th>1</th>\n",
              "      <td>288</td>\n",
              "      <td>71.820449</td>\n",
              "    </tr>\n",
              "    <tr>\n",
              "      <th>0</th>\n",
              "      <td>113</td>\n",
              "      <td>28.179551</td>\n",
              "    </tr>\n",
              "  </tbody>\n",
              "</table>\n",
              "</div>"
            ],
            "text/plain": [
              "                     count          %\n",
              "Married Loan_Status                  \n",
              "0       1              134  62.910798\n",
              "        0               79  37.089202\n",
              "1       1              288  71.820449\n",
              "        0              113  28.179551"
            ]
          },
          "execution_count": 25,
          "metadata": {},
          "output_type": "execute_result"
        }
      ],
      "source": [
        "ss=loanData.groupby('Married')['Loan_Status'].value_counts(normalize=False)\n",
        "ee=loanData.groupby('Married')['Loan_Status'].value_counts(normalize=True)*100\n",
        "pd.concat([ss,ee], axis=1 , keys=['count','%'])"
      ]
    },
    {
      "cell_type": "code",
      "execution_count": null,
      "id": "38d0073c",
      "metadata": {
        "id": "38d0073c",
        "outputId": "cd650862-92a4-42bb-a3f1-1f711e8cb36c"
      },
      "outputs": [
        {
          "data": {
            "image/png": "[encoded data removed]",
            "text/plain": [
              "<Figure size 432x288 with 1 Axes>"
            ]
          },
          "metadata": {
            "needs_background": "light"
          },
          "output_type": "display_data"
        }
      ],
      "source": [
        "#the relationship between the Loan_Status and Married and we can see Married people have more accepted loan\n",
        "sns.countplot(x='Married', data=loanData,hue='Loan_Status');"
      ]
    },
    {
      "cell_type": "code",
      "execution_count": null,
      "id": "5b21c0ab",
      "metadata": {
        "id": "5b21c0ab",
        "outputId": "584f27b0-5ed1-47ca-ecc0-9cfa9e7ac4db"
      },
      "outputs": [
        {
          "data": {
            "text/html": [
              "<div>\n",
              "<style scoped>\n",
              "    .dataframe tbody tr th:only-of-type {\n",
              "        vertical-align: middle;\n",
              "    }\n",
              "\n",
              "    .dataframe tbody tr th {\n",
              "        vertical-align: top;\n",
              "    }\n",
              "\n",
              "    .dataframe thead th {\n",
              "        text-align: right;\n",
              "    }\n",
              "</style>\n",
              "<table border=\"1\" class=\"dataframe\">\n",
              "  <thead>\n",
              "    <tr style=\"text-align: right;\">\n",
              "      <th></th>\n",
              "      <th></th>\n",
              "      <th>count</th>\n",
              "      <th>%</th>\n",
              "    </tr>\n",
              "    <tr>\n",
              "      <th>Dependents</th>\n",
              "      <th>Loan_Status</th>\n",
              "      <th></th>\n",
              "      <th></th>\n",
              "    </tr>\n",
              "  </thead>\n",
              "  <tbody>\n",
              "    <tr>\n",
              "      <th rowspan=\"2\" valign=\"top\">0</th>\n",
              "      <th>1</th>\n",
              "      <td>247</td>\n",
              "      <td>68.611111</td>\n",
              "    </tr>\n",
              "    <tr>\n",
              "      <th>0</th>\n",
              "      <td>113</td>\n",
              "      <td>31.388889</td>\n",
              "    </tr>\n",
              "    <tr>\n",
              "      <th rowspan=\"2\" valign=\"top\">1</th>\n",
              "      <th>1</th>\n",
              "      <td>66</td>\n",
              "      <td>64.705882</td>\n",
              "    </tr>\n",
              "    <tr>\n",
              "      <th>0</th>\n",
              "      <td>36</td>\n",
              "      <td>35.294118</td>\n",
              "    </tr>\n",
              "    <tr>\n",
              "      <th rowspan=\"2\" valign=\"top\">2</th>\n",
              "      <th>1</th>\n",
              "      <td>76</td>\n",
              "      <td>75.247525</td>\n",
              "    </tr>\n",
              "    <tr>\n",
              "      <th>0</th>\n",
              "      <td>25</td>\n",
              "      <td>24.752475</td>\n",
              "    </tr>\n",
              "    <tr>\n",
              "      <th rowspan=\"2\" valign=\"top\">3</th>\n",
              "      <th>1</th>\n",
              "      <td>33</td>\n",
              "      <td>64.705882</td>\n",
              "    </tr>\n",
              "    <tr>\n",
              "      <th>0</th>\n",
              "      <td>18</td>\n",
              "      <td>35.294118</td>\n",
              "    </tr>\n",
              "  </tbody>\n",
              "</table>\n",
              "</div>"
            ],
            "text/plain": [
              "                        count          %\n",
              "Dependents Loan_Status                  \n",
              "0          1              247  68.611111\n",
              "           0              113  31.388889\n",
              "1          1               66  64.705882\n",
              "           0               36  35.294118\n",
              "2          1               76  75.247525\n",
              "           0               25  24.752475\n",
              "3          1               33  64.705882\n",
              "           0               18  35.294118"
            ]
          },
          "execution_count": 27,
          "metadata": {},
          "output_type": "execute_result"
        }
      ],
      "source": [
        "ss=loanData.groupby('Dependents')['Loan_Status'].value_counts(normalize=False)\n",
        "ee=loanData.groupby('Dependents')['Loan_Status'].value_counts(normalize=True)*100\n",
        "pd.concat([ss,ee], axis=1 , keys=['count','%'])"
      ]
    },
    {
      "cell_type": "code",
      "execution_count": null,
      "id": "0f5af141",
      "metadata": {
        "scrolled": false,
        "id": "0f5af141",
        "outputId": "43a5bf56-fa0c-4685-8efc-8444e9cf3853"
      },
      "outputs": [
        {
          "data": {
            "image/png": "[encoded data removed]",
            "text/plain": [
              "<Figure size 432x288 with 1 Axes>"
            ]
          },
          "metadata": {
            "needs_background": "light"
          },
          "output_type": "display_data"
        }
      ],
      "source": [
        "#the relationship between the Loan_Status and Dependents and we can see zero dependents  have more accepted loan\n",
        "sns.countplot(x='Dependents', data=loanData,hue='Loan_Status');"
      ]
    },
    {
      "cell_type": "code",
      "execution_count": null,
      "id": "35096090",
      "metadata": {
        "id": "35096090",
        "outputId": "9d66ca55-266b-4e51-bada-845eb1c08256"
      },
      "outputs": [
        {
          "data": {
            "text/html": [
              "<div>\n",
              "<style scoped>\n",
              "    .dataframe tbody tr th:only-of-type {\n",
              "        vertical-align: middle;\n",
              "    }\n",
              "\n",
              "    .dataframe tbody tr th {\n",
              "        vertical-align: top;\n",
              "    }\n",
              "\n",
              "    .dataframe thead th {\n",
              "        text-align: right;\n",
              "    }\n",
              "</style>\n",
              "<table border=\"1\" class=\"dataframe\">\n",
              "  <thead>\n",
              "    <tr style=\"text-align: right;\">\n",
              "      <th></th>\n",
              "      <th></th>\n",
              "      <th>count</th>\n",
              "      <th>%</th>\n",
              "    </tr>\n",
              "    <tr>\n",
              "      <th>Education</th>\n",
              "      <th>Loan_Status</th>\n",
              "      <th></th>\n",
              "      <th></th>\n",
              "    </tr>\n",
              "  </thead>\n",
              "  <tbody>\n",
              "    <tr>\n",
              "      <th rowspan=\"2\" valign=\"top\">0</th>\n",
              "      <th>1</th>\n",
              "      <td>82</td>\n",
              "      <td>61.194030</td>\n",
              "    </tr>\n",
              "    <tr>\n",
              "      <th>0</th>\n",
              "      <td>52</td>\n",
              "      <td>38.805970</td>\n",
              "    </tr>\n",
              "    <tr>\n",
              "      <th rowspan=\"2\" valign=\"top\">1</th>\n",
              "      <th>1</th>\n",
              "      <td>340</td>\n",
              "      <td>70.833333</td>\n",
              "    </tr>\n",
              "    <tr>\n",
              "      <th>0</th>\n",
              "      <td>140</td>\n",
              "      <td>29.166667</td>\n",
              "    </tr>\n",
              "  </tbody>\n",
              "</table>\n",
              "</div>"
            ],
            "text/plain": [
              "                       count          %\n",
              "Education Loan_Status                  \n",
              "0         1               82  61.194030\n",
              "          0               52  38.805970\n",
              "1         1              340  70.833333\n",
              "          0              140  29.166667"
            ]
          },
          "execution_count": 29,
          "metadata": {},
          "output_type": "execute_result"
        }
      ],
      "source": [
        "ss=loanData.groupby('Education')['Loan_Status'].value_counts(normalize=False)\n",
        "ee=loanData.groupby('Education')['Loan_Status'].value_counts(normalize=True)*100\n",
        "pd.concat([ss,ee], axis=1 , keys=['count','%'])"
      ]
    },
    {
      "cell_type": "code",
      "execution_count": null,
      "id": "8c272825",
      "metadata": {
        "scrolled": true,
        "id": "8c272825",
        "outputId": "825327e9-3e3d-4050-dcab-26ab3e1ee605"
      },
      "outputs": [
        {
          "data": {
            "image/png": "[encoded data removed]",
            "text/plain": [
              "<Figure size 432x288 with 1 Axes>"
            ]
          },
          "metadata": {
            "needs_background": "light"
          },
          "output_type": "display_data"
        }
      ],
      "source": [
        "#the relationship between the Loan_Status and Education and we can see Graduate people have more accepted loan\n",
        "sns.countplot(x='Education', data=loanData,hue='Loan_Status');"
      ]
    },
    {
      "cell_type": "code",
      "execution_count": null,
      "id": "d9139d31",
      "metadata": {
        "id": "d9139d31",
        "outputId": "ea1c4b84-9ce8-4445-cd8f-54bc9630607e"
      },
      "outputs": [
        {
          "data": {
            "text/html": [
              "<div>\n",
              "<style scoped>\n",
              "    .dataframe tbody tr th:only-of-type {\n",
              "        vertical-align: middle;\n",
              "    }\n",
              "\n",
              "    .dataframe tbody tr th {\n",
              "        vertical-align: top;\n",
              "    }\n",
              "\n",
              "    .dataframe thead th {\n",
              "        text-align: right;\n",
              "    }\n",
              "</style>\n",
              "<table border=\"1\" class=\"dataframe\">\n",
              "  <thead>\n",
              "    <tr style=\"text-align: right;\">\n",
              "      <th></th>\n",
              "      <th></th>\n",
              "      <th>count</th>\n",
              "      <th>%</th>\n",
              "    </tr>\n",
              "    <tr>\n",
              "      <th>Self_Employed</th>\n",
              "      <th>Loan_Status</th>\n",
              "      <th></th>\n",
              "      <th></th>\n",
              "    </tr>\n",
              "  </thead>\n",
              "  <tbody>\n",
              "    <tr>\n",
              "      <th rowspan=\"2\" valign=\"top\">0</th>\n",
              "      <th>1</th>\n",
              "      <td>366</td>\n",
              "      <td>68.796992</td>\n",
              "    </tr>\n",
              "    <tr>\n",
              "      <th>0</th>\n",
              "      <td>166</td>\n",
              "      <td>31.203008</td>\n",
              "    </tr>\n",
              "    <tr>\n",
              "      <th rowspan=\"2\" valign=\"top\">1</th>\n",
              "      <th>1</th>\n",
              "      <td>56</td>\n",
              "      <td>68.292683</td>\n",
              "    </tr>\n",
              "    <tr>\n",
              "      <th>0</th>\n",
              "      <td>26</td>\n",
              "      <td>31.707317</td>\n",
              "    </tr>\n",
              "  </tbody>\n",
              "</table>\n",
              "</div>"
            ],
            "text/plain": [
              "                           count          %\n",
              "Self_Employed Loan_Status                  \n",
              "0             1              366  68.796992\n",
              "              0              166  31.203008\n",
              "1             1               56  68.292683\n",
              "              0               26  31.707317"
            ]
          },
          "execution_count": 31,
          "metadata": {},
          "output_type": "execute_result"
        }
      ],
      "source": [
        "ss=loanData.groupby('Self_Employed')['Loan_Status'].value_counts(normalize=False)\n",
        "ee=loanData.groupby('Self_Employed')['Loan_Status'].value_counts(normalize=True)*100\n",
        "pd.concat([ss,ee], axis=1 , keys=['count','%'])"
      ]
    },
    {
      "cell_type": "code",
      "execution_count": null,
      "id": "47b80609",
      "metadata": {
        "scrolled": true,
        "id": "47b80609",
        "outputId": "503c451c-c6f1-42be-e5ca-cf2d8d159aa9"
      },
      "outputs": [
        {
          "data": {
            "image/png": "[encoded data removed]",
            "text/plain": [
              "<Figure size 432x288 with 1 Axes>"
            ]
          },
          "metadata": {
            "needs_background": "light"
          },
          "output_type": "display_data"
        }
      ],
      "source": [
        "#the relationship between the Loan_Status and Self_Employed\n",
        "sns.countplot(x='Self_Employed', data=loanData,hue='Loan_Status');"
      ]
    },
    {
      "cell_type": "code",
      "execution_count": null,
      "id": "1201b9a2",
      "metadata": {
        "id": "1201b9a2",
        "outputId": "c21c7ac6-20db-44c7-d60c-8561ab7161f7"
      },
      "outputs": [
        {
          "data": {
            "text/html": [
              "<div>\n",
              "<style scoped>\n",
              "    .dataframe tbody tr th:only-of-type {\n",
              "        vertical-align: middle;\n",
              "    }\n",
              "\n",
              "    .dataframe tbody tr th {\n",
              "        vertical-align: top;\n",
              "    }\n",
              "\n",
              "    .dataframe thead th {\n",
              "        text-align: right;\n",
              "    }\n",
              "</style>\n",
              "<table border=\"1\" class=\"dataframe\">\n",
              "  <thead>\n",
              "    <tr style=\"text-align: right;\">\n",
              "      <th></th>\n",
              "      <th></th>\n",
              "      <th>count</th>\n",
              "      <th>%</th>\n",
              "    </tr>\n",
              "    <tr>\n",
              "      <th>Credit_History</th>\n",
              "      <th>Loan_Status</th>\n",
              "      <th></th>\n",
              "      <th></th>\n",
              "    </tr>\n",
              "  </thead>\n",
              "  <tbody>\n",
              "    <tr>\n",
              "      <th rowspan=\"2\" valign=\"top\">0.0</th>\n",
              "      <th>0</th>\n",
              "      <td>82</td>\n",
              "      <td>92.134831</td>\n",
              "    </tr>\n",
              "    <tr>\n",
              "      <th>1</th>\n",
              "      <td>7</td>\n",
              "      <td>7.865169</td>\n",
              "    </tr>\n",
              "    <tr>\n",
              "      <th rowspan=\"2\" valign=\"top\">1.0</th>\n",
              "      <th>1</th>\n",
              "      <td>415</td>\n",
              "      <td>79.047619</td>\n",
              "    </tr>\n",
              "    <tr>\n",
              "      <th>0</th>\n",
              "      <td>110</td>\n",
              "      <td>20.952381</td>\n",
              "    </tr>\n",
              "  </tbody>\n",
              "</table>\n",
              "</div>"
            ],
            "text/plain": [
              "                            count          %\n",
              "Credit_History Loan_Status                  \n",
              "0.0            0               82  92.134831\n",
              "               1                7   7.865169\n",
              "1.0            1              415  79.047619\n",
              "               0              110  20.952381"
            ]
          },
          "execution_count": 33,
          "metadata": {},
          "output_type": "execute_result"
        }
      ],
      "source": [
        "ss=loanData.groupby('Credit_History')['Loan_Status'].value_counts(normalize=False)\n",
        "ee=loanData.groupby('Credit_History')['Loan_Status'].value_counts(normalize=True)*100\n",
        "pd.concat([ss,ee], axis=1 , keys=['count','%'])"
      ]
    },
    {
      "cell_type": "code",
      "execution_count": null,
      "id": "e2d31263",
      "metadata": {
        "id": "e2d31263",
        "outputId": "84503664-d528-49df-e241-005301104fa4"
      },
      "outputs": [
        {
          "data": {
            "image/png": "[encoded data removed]",
            "text/plain": [
              "<Figure size 432x288 with 1 Axes>"
            ]
          },
          "metadata": {
            "needs_background": "light"
          },
          "output_type": "display_data"
        }
      ],
      "source": [
        "#the relationship between the Loan_Status and Self_Employed\n",
        "sns.countplot(x='Credit_History', data=loanData,hue='Loan_Status');"
      ]
    },
    {
      "cell_type": "code",
      "execution_count": null,
      "id": "74c591bc",
      "metadata": {
        "id": "74c591bc",
        "outputId": "6ed35f83-4a8e-4038-ebe0-666c11419410"
      },
      "outputs": [
        {
          "data": {
            "text/html": [
              "<div>\n",
              "<style scoped>\n",
              "    .dataframe tbody tr th:only-of-type {\n",
              "        vertical-align: middle;\n",
              "    }\n",
              "\n",
              "    .dataframe tbody tr th {\n",
              "        vertical-align: top;\n",
              "    }\n",
              "\n",
              "    .dataframe thead th {\n",
              "        text-align: right;\n",
              "    }\n",
              "</style>\n",
              "<table border=\"1\" class=\"dataframe\">\n",
              "  <thead>\n",
              "    <tr style=\"text-align: right;\">\n",
              "      <th></th>\n",
              "      <th></th>\n",
              "      <th>count</th>\n",
              "      <th>%</th>\n",
              "    </tr>\n",
              "    <tr>\n",
              "      <th>Married</th>\n",
              "      <th>Gender</th>\n",
              "      <th></th>\n",
              "      <th></th>\n",
              "    </tr>\n",
              "  </thead>\n",
              "  <tbody>\n",
              "    <tr>\n",
              "      <th rowspan=\"2\" valign=\"top\">0</th>\n",
              "      <th>1</th>\n",
              "      <td>133</td>\n",
              "      <td>62.441315</td>\n",
              "    </tr>\n",
              "    <tr>\n",
              "      <th>0</th>\n",
              "      <td>80</td>\n",
              "      <td>37.558685</td>\n",
              "    </tr>\n",
              "    <tr>\n",
              "      <th rowspan=\"2\" valign=\"top\">1</th>\n",
              "      <th>1</th>\n",
              "      <td>369</td>\n",
              "      <td>92.019950</td>\n",
              "    </tr>\n",
              "    <tr>\n",
              "      <th>0</th>\n",
              "      <td>32</td>\n",
              "      <td>7.980050</td>\n",
              "    </tr>\n",
              "  </tbody>\n",
              "</table>\n",
              "</div>"
            ],
            "text/plain": [
              "                count          %\n",
              "Married Gender                  \n",
              "0       1         133  62.441315\n",
              "        0          80  37.558685\n",
              "1       1         369  92.019950\n",
              "        0          32   7.980050"
            ]
          },
          "execution_count": 35,
          "metadata": {},
          "output_type": "execute_result"
        }
      ],
      "source": [
        "ss=loanData.groupby('Married')['Gender'].value_counts(normalize=False)\n",
        "ee=loanData.groupby('Married')['Gender'].value_counts(normalize=True)*100\n",
        "pd.concat([ss,ee], axis=1 , keys=['count','%'])"
      ]
    },
    {
      "cell_type": "code",
      "execution_count": null,
      "id": "174a7d07",
      "metadata": {
        "id": "174a7d07",
        "outputId": "ec82f0ad-0dbf-4485-bb2d-b1ec1e50bff9"
      },
      "outputs": [
        {
          "data": {
            "image/png": "[encoded data removed]",
            "text/plain": [
              "<Figure size 432x288 with 1 Axes>"
            ]
          },
          "metadata": {
            "needs_background": "light"
          },
          "output_type": "display_data"
        }
      ],
      "source": [
        "#the relationship between the Self_Employed and Gender\n",
        "sns.countplot(x='Married', data=loanData,hue='Gender');"
      ]
    },
    {
      "cell_type": "code",
      "execution_count": null,
      "id": "5ee2dfc1",
      "metadata": {
        "id": "5ee2dfc1",
        "outputId": "c65aa3d0-8215-4420-e23b-aa4892e49e27"
      },
      "outputs": [
        {
          "data": {
            "text/plain": [
              "<AxesSubplot:xlabel='Loan_Status', ylabel='CoapplicantIncome'>"
            ]
          },
          "execution_count": 158,
          "metadata": {},
          "output_type": "execute_result"
        },
        {
          "data": {
            "image/png": "[encoded data removed]",
            "text/plain": [
              "<Figure size 432x288 with 1 Axes>"
            ]
          },
          "metadata": {
            "needs_background": "light"
          },
          "output_type": "display_data"
        }
      ],
      "source": [
        "#the relationship between the Loan_Status and CoapplicantIncome\n",
        "sns.boxplot(x=\"Loan_Status\", y=\"CoapplicantIncome\", data=loanData)"
      ]
    },
    {
      "cell_type": "code",
      "execution_count": null,
      "id": "bb81422a",
      "metadata": {
        "id": "bb81422a",
        "outputId": "df08d2c1-c701-4e4c-d122-76e3c4260c43"
      },
      "outputs": [
        {
          "data": {
            "text/plain": [
              "<AxesSubplot:xlabel='Loan_Status', ylabel='ApplicantIncome'>"
            ]
          },
          "execution_count": 159,
          "metadata": {},
          "output_type": "execute_result"
        },
        {
          "data": {
            "image/png": "[encoded data removed]",
            "text/plain": [
              "<Figure size 432x288 with 1 Axes>"
            ]
          },
          "metadata": {
            "needs_background": "light"
          },
          "output_type": "display_data"
        }
      ],
      "source": [
        "#the relationship between the Loan_Status and ApplicantIncome\n",
        "sns.boxplot(x=\"Loan_Status\", y=\"ApplicantIncome\", data=loanData)"
      ]
    },
    {
      "cell_type": "code",
      "execution_count": null,
      "id": "83be30a6",
      "metadata": {
        "scrolled": true,
        "id": "83be30a6",
        "outputId": "7ad17c1d-8107-4c6f-e329-393c5d2f20ea"
      },
      "outputs": [
        {
          "data": {
            "text/plain": [
              "<AxesSubplot:xlabel='Loan_Status', ylabel='LoanAmount'>"
            ]
          },
          "execution_count": 160,
          "metadata": {},
          "output_type": "execute_result"
        },
        {
          "data": {
            "image/png": "[encoded data removed]",
            "text/plain": [
              "<Figure size 432x288 with 1 Axes>"
            ]
          },
          "metadata": {
            "needs_background": "light"
          },
          "output_type": "display_data"
        }
      ],
      "source": [
        "#the relationship between the Loan_Status and LoanAmount\n",
        "sns.boxplot(x=\"Loan_Status\", y=\"LoanAmount\", data=loanData)"
      ]
    },
    {
      "cell_type": "code",
      "execution_count": null,
      "id": "dfd08e21",
      "metadata": {
        "id": "dfd08e21",
        "outputId": "733495dd-e85c-40bb-ca73-b2a4d96719d8"
      },
      "outputs": [
        {
          "data": {
            "text/plain": [
              "<AxesSubplot:xlabel='Education', ylabel='LoanAmount'>"
            ]
          },
          "execution_count": 37,
          "metadata": {},
          "output_type": "execute_result"
        },
        {
          "data": {
            "image/png": "[encoded data removed]",
            "text/plain": [
              "<Figure size 432x288 with 1 Axes>"
            ]
          },
          "metadata": {
            "needs_background": "light"
          },
          "output_type": "display_data"
        }
      ],
      "source": [
        "#the relationship between the Loan_Status and LoanAmount and Education\n",
        "sns.boxplot(x=\"Education\", y=\"LoanAmount\", data=loanData, hue=\"Loan_Status\")"
      ]
    },
    {
      "cell_type": "markdown",
      "id": "718cd8f2",
      "metadata": {
        "id": "718cd8f2"
      },
      "source": [
        "# Classification algorithms"
      ]
    },
    {
      "cell_type": "markdown",
      "id": "610dfb72",
      "metadata": {
        "id": "610dfb72"
      },
      "source": [
        "# First algorithm: SVM"
      ]
    },
    {
      "cell_type": "code",
      "execution_count": null,
      "id": "e547027c",
      "metadata": {
        "id": "e547027c",
        "outputId": "a55e0d83-69c8-4289-e046-bc1bafd2bf4d"
      },
      "outputs": [
        {
          "name": "stdout",
          "output_type": "stream",
          "text": [
            "<class 'pandas.core.frame.DataFrame'>\n",
            "RangeIndex: 614 entries, 0 to 613\n",
            "Data columns (total 12 columns):\n",
            " #   Column             Non-Null Count  Dtype  \n",
            "---  ------             --------------  -----  \n",
            " 0   ApplicantIncome    614 non-null    float64\n",
            " 1   CoapplicantIncome  614 non-null    float64\n",
            " 2   LoanAmount         614 non-null    float64\n",
            " 3   Loan_Amount_Term   614 non-null    float64\n",
            " 4   Gender             614 non-null    int64  \n",
            " 5   Married            614 non-null    int64  \n",
            " 6   Dependents         614 non-null    int64  \n",
            " 7   Education          614 non-null    int64  \n",
            " 8   Self_Employed      614 non-null    int64  \n",
            " 9   Credit_History     614 non-null    float64\n",
            " 10  Property_Area      614 non-null    int64  \n",
            " 11  Loan_Status        614 non-null    int64  \n",
            "dtypes: float64(5), int64(7)\n",
            "memory usage: 57.7 KB\n",
            "(429, 11) (185, 11) (429,) (185,)\n"
          ]
        }
      ],
      "source": [
        "from sklearn.model_selection import train_test_split\n",
        "from sklearn import metrics\n",
        "loanData2=loanData2.drop('Loan_ID',axis=1)\n",
        "#we dropped Loan_ID column because its of type object and we don't need it in classification\n",
        "loanData2.info()\n",
        "#splitting data into 30% testing and 70% training\n",
        "X_train, X_test, y_train, y_test = train_test_split(loanData2.drop('Loan_Status',axis=1),loanData2['Loan_Status'],\n",
        "                                                    test_size=0.30)\n",
        "print (X_train.shape,X_test.shape,y_train.shape, y_test.shape) #429=trainig, 185=testing"
      ]
    },
    {
      "cell_type": "code",
      "execution_count": null,
      "id": "250d5918",
      "metadata": {
        "id": "250d5918",
        "outputId": "724cda87-ffe6-4287-f72a-427303b3a8e9"
      },
      "outputs": [
        {
          "name": "stdout",
          "output_type": "stream",
          "text": [
            "Accuracy of SVM classifier on test set: 0.83\n"
          ]
        }
      ],
      "source": [
        "from sklearn.svm import SVC\n",
        "from sklearn.metrics import classification_report\n",
        "from sklearn.metrics import confusion_matrix\n",
        "from sklearn.metrics import accuracy_score\n",
        "\n",
        "SVM_model = SVC(gamma='auto') #Initialize SVM model, and automaticaly select gamma in the library SVC\n",
        "SVM_model.fit(X_train, y_train) #fit=training the model\n",
        "print('Accuracy of SVM classifier on test set: {:.2f}'.format(SVM_model.score(X_test, y_test))) #mean accuracy of the model"
      ]
    },
    {
      "cell_type": "code",
      "execution_count": null,
      "id": "62e87101",
      "metadata": {
        "id": "62e87101",
        "outputId": "db7407d4-8d3a-48a0-9f8e-5c45d06188ec"
      },
      "outputs": [
        {
          "name": "stdout",
          "output_type": "stream",
          "text": [
            "[[ 27  29]\n",
            " [  2 127]]\n"
          ]
        }
      ],
      "source": [
        "SVM_prediction = SVM_model.predict(X_test) #predict \"class label\" for sample in x\n",
        "confusion_matrix = confusion_matrix(y_test, SVM_prediction) #comparing actual y with preticted y\n",
        "print(confusion_matrix)"
      ]
    },
    {
      "cell_type": "code",
      "execution_count": null,
      "id": "5b46572d",
      "metadata": {
        "id": "5b46572d",
        "outputId": "fc5ac49f-b63d-43d9-99c8-cbb6ee9c2f4f"
      },
      "outputs": [
        {
          "name": "stdout",
          "output_type": "stream",
          "text": [
            "              precision    recall  f1-score   support\n",
            "\n",
            "           0       0.93      0.48      0.64        56\n",
            "           1       0.81      0.98      0.89       129\n",
            "\n",
            "    accuracy                           0.83       185\n",
            "   macro avg       0.87      0.73      0.76       185\n",
            "weighted avg       0.85      0.83      0.81       185\n",
            "\n"
          ]
        }
      ],
      "source": [
        "print(classification_report(y_test, SVM_prediction)) # a reprot off all needed metrices"
      ]
    },
    {
      "cell_type": "markdown",
      "id": "0fbe1559",
      "metadata": {
        "id": "0fbe1559"
      },
      "source": [
        "#### Parameters tuning for SVC:\n"
      ]
    },
    {
      "cell_type": "code",
      "execution_count": null,
      "id": "0e1eff46",
      "metadata": {
        "id": "0e1eff46",
        "outputId": "ab77185e-385c-41e9-a8ba-c0317d69e6d5"
      },
      "outputs": [
        {
          "name": "stdout",
          "output_type": "stream",
          "text": [
            "Fitting 5 folds for each of 35 candidates, totalling 175 fits\n",
            "[CV 1/5] END ..........C=1, gamma=1, kernel=rbf;, score=0.779 total time=   0.0s\n",
            "[CV 2/5] END ..........C=1, gamma=1, kernel=rbf;, score=0.826 total time=   0.0s\n",
            "[CV 3/5] END ..........C=1, gamma=1, kernel=rbf;, score=0.733 total time=   0.0s\n",
            "[CV 4/5] END ..........C=1, gamma=1, kernel=rbf;, score=0.767 total time=   0.0s\n",
            "[CV 5/5] END ..........C=1, gamma=1, kernel=rbf;, score=0.753 total time=   0.0s\n",
            "[CV 1/5] END ........C=1, gamma=0.1, kernel=rbf;, score=0.814 total time=   0.0s\n",
            "[CV 2/5] END ........C=1, gamma=0.1, kernel=rbf;, score=0.837 total time=   0.0s\n",
            "[CV 3/5] END ........C=1, gamma=0.1, kernel=rbf;, score=0.767 total time=   0.0s\n",
            "[CV 4/5] END ........C=1, gamma=0.1, kernel=rbf;, score=0.791 total time=   0.0s\n",
            "[CV 5/5] END ........C=1, gamma=0.1, kernel=rbf;, score=0.788 total time=   0.0s\n",
            "[CV 1/5] END .......C=1, gamma=0.01, kernel=rbf;, score=0.674 total time=   0.0s\n",
            "[CV 2/5] END .......C=1, gamma=0.01, kernel=rbf;, score=0.686 total time=   0.0s\n",
            "[CV 3/5] END .......C=1, gamma=0.01, kernel=rbf;, score=0.686 total time=   0.0s\n",
            "[CV 4/5] END .......C=1, gamma=0.01, kernel=rbf;, score=0.686 total time=   0.0s\n",
            "[CV 5/5] END .......C=1, gamma=0.01, kernel=rbf;, score=0.682 total time=   0.0s\n",
            "[CV 1/5] END ......C=1, gamma=0.001, kernel=rbf;, score=0.674 total time=   0.0s\n",
            "[CV 2/5] END ......C=1, gamma=0.001, kernel=rbf;, score=0.686 total time=   0.0s\n",
            "[CV 3/5] END ......C=1, gamma=0.001, kernel=rbf;, score=0.686 total time=   0.0s\n",
            "[CV 4/5] END ......C=1, gamma=0.001, kernel=rbf;, score=0.686 total time=   0.0s\n",
            "[CV 5/5] END ......C=1, gamma=0.001, kernel=rbf;, score=0.682 total time=   0.0s\n",
            "[CV 1/5] END .....C=1, gamma=0.0001, kernel=rbf;, score=0.674 total time=   0.0s\n",
            "[CV 2/5] END .....C=1, gamma=0.0001, kernel=rbf;, score=0.686 total time=   0.0s\n",
            "[CV 3/5] END .....C=1, gamma=0.0001, kernel=rbf;, score=0.686 total time=   0.0s\n",
            "[CV 4/5] END .....C=1, gamma=0.0001, kernel=rbf;, score=0.686 total time=   0.0s\n",
            "[CV 5/5] END .....C=1, gamma=0.0001, kernel=rbf;, score=0.682 total time=   0.0s\n",
            "[CV 1/5] END .........C=10, gamma=1, kernel=rbf;, score=0.802 total time=   0.0s\n",
            "[CV 2/5] END .........C=10, gamma=1, kernel=rbf;, score=0.756 total time=   0.9s\n",
            "[CV 3/5] END .........C=10, gamma=1, kernel=rbf;, score=0.733 total time=   0.0s\n",
            "[CV 4/5] END .........C=10, gamma=1, kernel=rbf;, score=0.779 total time=   0.0s\n",
            "[CV 5/5] END .........C=10, gamma=1, kernel=rbf;, score=0.729 total time=   0.0s\n",
            "[CV 1/5] END .......C=10, gamma=0.1, kernel=rbf;, score=0.814 total time=   0.0s\n",
            "[CV 2/5] END .......C=10, gamma=0.1, kernel=rbf;, score=0.837 total time=   0.0s\n",
            "[CV 3/5] END .......C=10, gamma=0.1, kernel=rbf;, score=0.733 total time=   0.0s\n",
            "[CV 4/5] END .......C=10, gamma=0.1, kernel=rbf;, score=0.791 total time=   0.0s\n",
            "[CV 5/5] END .......C=10, gamma=0.1, kernel=rbf;, score=0.788 total time=   0.0s\n",
            "[CV 1/5] END ......C=10, gamma=0.01, kernel=rbf;, score=0.814 total time=   0.0s\n",
            "[CV 2/5] END ......C=10, gamma=0.01, kernel=rbf;, score=0.837 total time=   0.0s\n",
            "[CV 3/5] END ......C=10, gamma=0.01, kernel=rbf;, score=0.767 total time=   0.0s\n",
            "[CV 4/5] END ......C=10, gamma=0.01, kernel=rbf;, score=0.791 total time=   0.0s\n",
            "[CV 5/5] END ......C=10, gamma=0.01, kernel=rbf;, score=0.788 total time=   0.0s\n",
            "[CV 1/5] END .....C=10, gamma=0.001, kernel=rbf;, score=0.674 total time=   0.0s\n",
            "[CV 2/5] END .....C=10, gamma=0.001, kernel=rbf;, score=0.686 total time=   0.0s\n",
            "[CV 3/5] END .....C=10, gamma=0.001, kernel=rbf;, score=0.686 total time=   0.0s\n",
            "[CV 4/5] END .....C=10, gamma=0.001, kernel=rbf;, score=0.686 total time=   0.0s\n",
            "[CV 5/5] END .....C=10, gamma=0.001, kernel=rbf;, score=0.682 total time=   0.0s\n",
            "[CV 1/5] END ....C=10, gamma=0.0001, kernel=rbf;, score=0.674 total time=   0.0s\n",
            "[CV 2/5] END ....C=10, gamma=0.0001, kernel=rbf;, score=0.686 total time=   0.0s\n",
            "[CV 3/5] END ....C=10, gamma=0.0001, kernel=rbf;, score=0.686 total time=   0.0s\n",
            "[CV 4/5] END ....C=10, gamma=0.0001, kernel=rbf;, score=0.686 total time=   0.0s\n",
            "[CV 5/5] END ....C=10, gamma=0.0001, kernel=rbf;, score=0.682 total time=   0.0s\n",
            "[CV 1/5] END .........C=50, gamma=1, kernel=rbf;, score=0.802 total time=   0.0s\n",
            "[CV 2/5] END .........C=50, gamma=1, kernel=rbf;, score=0.756 total time=   0.0s\n",
            "[CV 3/5] END .........C=50, gamma=1, kernel=rbf;, score=0.744 total time=   0.0s\n",
            "[CV 4/5] END .........C=50, gamma=1, kernel=rbf;, score=0.756 total time=   0.0s\n",
            "[CV 5/5] END .........C=50, gamma=1, kernel=rbf;, score=0.753 total time=   0.0s\n",
            "[CV 1/5] END .......C=50, gamma=0.1, kernel=rbf;, score=0.814 total time=   0.0s\n",
            "[CV 2/5] END .......C=50, gamma=0.1, kernel=rbf;, score=0.791 total time=   0.0s\n",
            "[CV 3/5] END .......C=50, gamma=0.1, kernel=rbf;, score=0.721 total time=   0.0s\n",
            "[CV 4/5] END .......C=50, gamma=0.1, kernel=rbf;, score=0.779 total time=   0.0s\n",
            "[CV 5/5] END .......C=50, gamma=0.1, kernel=rbf;, score=0.753 total time=   0.0s\n",
            "[CV 1/5] END ......C=50, gamma=0.01, kernel=rbf;, score=0.814 total time=   0.0s\n",
            "[CV 2/5] END ......C=50, gamma=0.01, kernel=rbf;, score=0.837 total time=   0.0s\n",
            "[CV 3/5] END ......C=50, gamma=0.01, kernel=rbf;, score=0.767 total time=   0.0s\n",
            "[CV 4/5] END ......C=50, gamma=0.01, kernel=rbf;, score=0.791 total time=   0.0s\n",
            "[CV 5/5] END ......C=50, gamma=0.01, kernel=rbf;, score=0.788 total time=   0.0s\n",
            "[CV 1/5] END .....C=50, gamma=0.001, kernel=rbf;, score=0.814 total time=   0.0s\n",
            "[CV 2/5] END .....C=50, gamma=0.001, kernel=rbf;, score=0.837 total time=   0.0s\n",
            "[CV 3/5] END .....C=50, gamma=0.001, kernel=rbf;, score=0.767 total time=   0.0s\n",
            "[CV 4/5] END .....C=50, gamma=0.001, kernel=rbf;, score=0.791 total time=   0.0s\n",
            "[CV 5/5] END .....C=50, gamma=0.001, kernel=rbf;, score=0.788 total time=   0.0s\n",
            "[CV 1/5] END ....C=50, gamma=0.0001, kernel=rbf;, score=0.674 total time=   0.0s\n",
            "[CV 2/5] END ....C=50, gamma=0.0001, kernel=rbf;, score=0.686 total time=   0.0s\n",
            "[CV 3/5] END ....C=50, gamma=0.0001, kernel=rbf;, score=0.686 total time=   0.0s\n",
            "[CV 4/5] END ....C=50, gamma=0.0001, kernel=rbf;, score=0.686 total time=   0.0s\n",
            "[CV 5/5] END ....C=50, gamma=0.0001, kernel=rbf;, score=0.682 total time=   0.0s\n",
            "[CV 1/5] END ........C=100, gamma=1, kernel=rbf;, score=0.802 total time=   0.0s\n",
            "[CV 2/5] END ........C=100, gamma=1, kernel=rbf;, score=0.767 total time=   0.0s\n",
            "[CV 3/5] END ........C=100, gamma=1, kernel=rbf;, score=0.756 total time=   0.0s\n",
            "[CV 4/5] END ........C=100, gamma=1, kernel=rbf;, score=0.744 total time=   0.0s\n",
            "[CV 5/5] END ........C=100, gamma=1, kernel=rbf;, score=0.765 total time=   0.0s\n",
            "[CV 1/5] END ......C=100, gamma=0.1, kernel=rbf;, score=0.802 total time=   0.0s\n",
            "[CV 2/5] END ......C=100, gamma=0.1, kernel=rbf;, score=0.756 total time=   0.0s\n",
            "[CV 3/5] END ......C=100, gamma=0.1, kernel=rbf;, score=0.698 total time=   0.0s\n",
            "[CV 4/5] END ......C=100, gamma=0.1, kernel=rbf;, score=0.767 total time=   0.0s\n",
            "[CV 5/5] END ......C=100, gamma=0.1, kernel=rbf;, score=0.729 total time=   0.0s\n",
            "[CV 1/5] END .....C=100, gamma=0.01, kernel=rbf;, score=0.814 total time=   0.0s\n",
            "[CV 2/5] END .....C=100, gamma=0.01, kernel=rbf;, score=0.837 total time=   0.0s\n",
            "[CV 3/5] END .....C=100, gamma=0.01, kernel=rbf;, score=0.767 total time=   0.0s\n",
            "[CV 4/5] END .....C=100, gamma=0.01, kernel=rbf;, score=0.791 total time=   0.0s\n",
            "[CV 5/5] END .....C=100, gamma=0.01, kernel=rbf;, score=0.788 total time=   0.0s\n",
            "[CV 1/5] END ....C=100, gamma=0.001, kernel=rbf;, score=0.814 total time=   0.0s\n",
            "[CV 2/5] END ....C=100, gamma=0.001, kernel=rbf;, score=0.837 total time=   0.0s\n",
            "[CV 3/5] END ....C=100, gamma=0.001, kernel=rbf;, score=0.767 total time=   0.0s\n",
            "[CV 4/5] END ....C=100, gamma=0.001, kernel=rbf;, score=0.791 total time=   0.0s\n",
            "[CV 5/5] END ....C=100, gamma=0.001, kernel=rbf;, score=0.788 total time=   0.0s\n",
            "[CV 1/5] END ...C=100, gamma=0.0001, kernel=rbf;, score=0.674 total time=   0.0s\n",
            "[CV 2/5] END ...C=100, gamma=0.0001, kernel=rbf;, score=0.686 total time=   0.0s\n",
            "[CV 3/5] END ...C=100, gamma=0.0001, kernel=rbf;, score=0.686 total time=   0.0s\n",
            "[CV 4/5] END ...C=100, gamma=0.0001, kernel=rbf;, score=0.686 total time=   0.0s\n",
            "[CV 5/5] END ...C=100, gamma=0.0001, kernel=rbf;, score=0.682 total time=   0.0s\n",
            "[CV 1/5] END ........C=150, gamma=1, kernel=rbf;, score=0.779 total time=   0.0s\n",
            "[CV 2/5] END ........C=150, gamma=1, kernel=rbf;, score=0.767 total time=   0.0s\n",
            "[CV 3/5] END ........C=150, gamma=1, kernel=rbf;, score=0.756 total time=   0.0s\n",
            "[CV 4/5] END ........C=150, gamma=1, kernel=rbf;, score=0.744 total time=   0.0s\n"
          ]
        },
        {
          "name": "stdout",
          "output_type": "stream",
          "text": [
            "[CV 5/5] END ........C=150, gamma=1, kernel=rbf;, score=0.765 total time=   0.0s\n",
            "[CV 1/5] END ......C=150, gamma=0.1, kernel=rbf;, score=0.802 total time=   0.0s\n",
            "[CV 2/5] END ......C=150, gamma=0.1, kernel=rbf;, score=0.733 total time=   0.0s\n",
            "[CV 3/5] END ......C=150, gamma=0.1, kernel=rbf;, score=0.698 total time=   0.0s\n",
            "[CV 4/5] END ......C=150, gamma=0.1, kernel=rbf;, score=0.767 total time=   0.0s\n",
            "[CV 5/5] END ......C=150, gamma=0.1, kernel=rbf;, score=0.741 total time=   0.0s\n",
            "[CV 1/5] END .....C=150, gamma=0.01, kernel=rbf;, score=0.814 total time=   0.0s\n",
            "[CV 2/5] END .....C=150, gamma=0.01, kernel=rbf;, score=0.837 total time=   0.0s\n",
            "[CV 3/5] END .....C=150, gamma=0.01, kernel=rbf;, score=0.767 total time=   0.0s\n",
            "[CV 4/5] END .....C=150, gamma=0.01, kernel=rbf;, score=0.791 total time=   0.0s\n",
            "[CV 5/5] END .....C=150, gamma=0.01, kernel=rbf;, score=0.788 total time=   0.0s\n",
            "[CV 1/5] END ....C=150, gamma=0.001, kernel=rbf;, score=0.814 total time=   0.0s\n",
            "[CV 2/5] END ....C=150, gamma=0.001, kernel=rbf;, score=0.837 total time=   0.0s\n",
            "[CV 3/5] END ....C=150, gamma=0.001, kernel=rbf;, score=0.767 total time=   0.0s\n",
            "[CV 4/5] END ....C=150, gamma=0.001, kernel=rbf;, score=0.791 total time=   0.0s\n",
            "[CV 5/5] END ....C=150, gamma=0.001, kernel=rbf;, score=0.788 total time=   0.0s\n",
            "[CV 1/5] END ...C=150, gamma=0.0001, kernel=rbf;, score=0.814 total time=   0.0s\n",
            "[CV 2/5] END ...C=150, gamma=0.0001, kernel=rbf;, score=0.837 total time=   0.0s\n",
            "[CV 3/5] END ...C=150, gamma=0.0001, kernel=rbf;, score=0.767 total time=   0.0s\n",
            "[CV 4/5] END ...C=150, gamma=0.0001, kernel=rbf;, score=0.791 total time=   0.0s\n",
            "[CV 5/5] END ...C=150, gamma=0.0001, kernel=rbf;, score=0.788 total time=   0.0s\n",
            "[CV 1/5] END ........C=500, gamma=1, kernel=rbf;, score=0.744 total time=   0.0s\n",
            "[CV 2/5] END ........C=500, gamma=1, kernel=rbf;, score=0.744 total time=   0.0s\n",
            "[CV 3/5] END ........C=500, gamma=1, kernel=rbf;, score=0.733 total time=   0.0s\n",
            "[CV 4/5] END ........C=500, gamma=1, kernel=rbf;, score=0.733 total time=   0.0s\n",
            "[CV 5/5] END ........C=500, gamma=1, kernel=rbf;, score=0.765 total time=   0.0s\n",
            "[CV 1/5] END ......C=500, gamma=0.1, kernel=rbf;, score=0.802 total time=   0.0s\n",
            "[CV 2/5] END ......C=500, gamma=0.1, kernel=rbf;, score=0.756 total time=   0.0s\n",
            "[CV 3/5] END ......C=500, gamma=0.1, kernel=rbf;, score=0.698 total time=   0.0s\n",
            "[CV 4/5] END ......C=500, gamma=0.1, kernel=rbf;, score=0.733 total time=   0.0s\n",
            "[CV 5/5] END ......C=500, gamma=0.1, kernel=rbf;, score=0.753 total time=   0.0s\n",
            "[CV 1/5] END .....C=500, gamma=0.01, kernel=rbf;, score=0.814 total time=   0.0s\n",
            "[CV 2/5] END .....C=500, gamma=0.01, kernel=rbf;, score=0.837 total time=   0.0s\n",
            "[CV 3/5] END .....C=500, gamma=0.01, kernel=rbf;, score=0.744 total time=   0.0s\n",
            "[CV 4/5] END .....C=500, gamma=0.01, kernel=rbf;, score=0.791 total time=   0.0s\n",
            "[CV 5/5] END .....C=500, gamma=0.01, kernel=rbf;, score=0.788 total time=   0.0s\n",
            "[CV 1/5] END ....C=500, gamma=0.001, kernel=rbf;, score=0.814 total time=   0.0s\n",
            "[CV 2/5] END ....C=500, gamma=0.001, kernel=rbf;, score=0.837 total time=   0.0s\n",
            "[CV 3/5] END ....C=500, gamma=0.001, kernel=rbf;, score=0.767 total time=   0.0s\n",
            "[CV 4/5] END ....C=500, gamma=0.001, kernel=rbf;, score=0.791 total time=   0.0s\n",
            "[CV 5/5] END ....C=500, gamma=0.001, kernel=rbf;, score=0.788 total time=   0.0s\n",
            "[CV 1/5] END ...C=500, gamma=0.0001, kernel=rbf;, score=0.814 total time=   0.0s\n",
            "[CV 2/5] END ...C=500, gamma=0.0001, kernel=rbf;, score=0.837 total time=   0.0s\n",
            "[CV 3/5] END ...C=500, gamma=0.0001, kernel=rbf;, score=0.767 total time=   0.0s\n",
            "[CV 4/5] END ...C=500, gamma=0.0001, kernel=rbf;, score=0.791 total time=   0.0s\n",
            "[CV 5/5] END ...C=500, gamma=0.0001, kernel=rbf;, score=0.788 total time=   0.0s\n",
            "[CV 1/5] END .......C=1000, gamma=1, kernel=rbf;, score=0.767 total time=   0.0s\n",
            "[CV 2/5] END .......C=1000, gamma=1, kernel=rbf;, score=0.744 total time=   0.0s\n",
            "[CV 3/5] END .......C=1000, gamma=1, kernel=rbf;, score=0.721 total time=   0.0s\n",
            "[CV 4/5] END .......C=1000, gamma=1, kernel=rbf;, score=0.721 total time=   0.0s\n",
            "[CV 5/5] END .......C=1000, gamma=1, kernel=rbf;, score=0.753 total time=   0.0s\n",
            "[CV 1/5] END .....C=1000, gamma=0.1, kernel=rbf;, score=0.779 total time=   0.0s\n",
            "[CV 2/5] END .....C=1000, gamma=0.1, kernel=rbf;, score=0.756 total time=   0.0s\n",
            "[CV 3/5] END .....C=1000, gamma=0.1, kernel=rbf;, score=0.698 total time=   0.0s\n",
            "[CV 4/5] END .....C=1000, gamma=0.1, kernel=rbf;, score=0.744 total time=   0.0s\n",
            "[CV 5/5] END .....C=1000, gamma=0.1, kernel=rbf;, score=0.741 total time=   0.0s\n",
            "[CV 1/5] END ....C=1000, gamma=0.01, kernel=rbf;, score=0.814 total time=   0.0s\n",
            "[CV 2/5] END ....C=1000, gamma=0.01, kernel=rbf;, score=0.837 total time=   0.0s\n",
            "[CV 3/5] END ....C=1000, gamma=0.01, kernel=rbf;, score=0.721 total time=   0.0s\n",
            "[CV 4/5] END ....C=1000, gamma=0.01, kernel=rbf;, score=0.791 total time=   0.0s\n",
            "[CV 5/5] END ....C=1000, gamma=0.01, kernel=rbf;, score=0.788 total time=   0.0s\n",
            "[CV 1/5] END ...C=1000, gamma=0.001, kernel=rbf;, score=0.814 total time=   0.0s\n",
            "[CV 2/5] END ...C=1000, gamma=0.001, kernel=rbf;, score=0.837 total time=   0.0s\n",
            "[CV 3/5] END ...C=1000, gamma=0.001, kernel=rbf;, score=0.767 total time=   0.0s\n",
            "[CV 4/5] END ...C=1000, gamma=0.001, kernel=rbf;, score=0.791 total time=   0.0s\n",
            "[CV 5/5] END ...C=1000, gamma=0.001, kernel=rbf;, score=0.788 total time=   0.0s\n",
            "[CV 1/5] END ..C=1000, gamma=0.0001, kernel=rbf;, score=0.814 total time=   0.0s\n",
            "[CV 2/5] END ..C=1000, gamma=0.0001, kernel=rbf;, score=0.837 total time=   0.0s\n",
            "[CV 3/5] END ..C=1000, gamma=0.0001, kernel=rbf;, score=0.767 total time=   0.0s\n",
            "[CV 4/5] END ..C=1000, gamma=0.0001, kernel=rbf;, score=0.791 total time=   0.0s\n",
            "[CV 5/5] END ..C=1000, gamma=0.0001, kernel=rbf;, score=0.788 total time=   0.0s\n",
            "Best parameters: \n",
            "{'C': 1, 'gamma': 0.1, 'kernel': 'rbf'}\n"
          ]
        }
      ],
      "source": [
        "from sklearn.model_selection import GridSearchCV\n",
        "#setting parameters for C, gamma, and kernel is set to rbf=radial basis function\n",
        "param_grid = {'C': [1,10, 50, 100,150, 500, 1000], 'gamma': [1,0.1,0.01,0.001,0.0001], 'kernel': ['rbf']}\n",
        "\n",
        "#using GridSearchCV metohd to find best parametrs to be used in the model\n",
        "grid = GridSearchCV(SVC(),param_grid,refit=True,verbose=3)\n",
        "\n",
        "#trainig\n",
        "grid.fit(X_train,y_train)\n",
        "\n",
        "print (\"Best parameters: \")\n",
        "print (grid.best_params_) #Best values"
      ]
    },
    {
      "cell_type": "code",
      "execution_count": null,
      "id": "b72b770e",
      "metadata": {
        "id": "b72b770e",
        "outputId": "72fcf0cf-b2a8-4b86-db9a-e2c3d5d2fe65"
      },
      "outputs": [
        {
          "name": "stdout",
          "output_type": "stream",
          "text": [
            "Accuracy of SVM classifier after trying best parameters on test set: 0.83\n"
          ]
        }
      ],
      "source": [
        "SVM_model2 = SVC(kernel='rbf',C=1,gamma=0.1) #Initialize SVM model again with best parameters from the result of GridSearchCV\n",
        "SVM_model2.fit(X_train, y_train) #fit=training the model\n",
        "#mean accuracy of the model\n",
        "print('Accuracy of SVM classifier after trying best parameters on test set: {:.2f}'.format(SVM_model2.score(X_test, y_test)))"
      ]
    },
    {
      "cell_type": "code",
      "execution_count": null,
      "id": "3dd9273a",
      "metadata": {
        "id": "3dd9273a",
        "outputId": "e768f389-6cd0-4f0b-f882-4f18f5dfca89"
      },
      "outputs": [
        {
          "name": "stdout",
          "output_type": "stream",
          "text": [
            "[[ 27  29]\n",
            " [  2 127]]\n"
          ]
        }
      ],
      "source": [
        "from sklearn.metrics import confusion_matrix\n",
        "SVM_prediction = SVM_model2.predict(X_test) #predict \"class label\" for sample in x\n",
        "confusion_matrix = confusion_matrix(y_test, SVM_prediction) #comparing actual y with preticted y\n",
        "print(confusion_matrix)"
      ]
    },
    {
      "cell_type": "code",
      "execution_count": null,
      "id": "f38859f3",
      "metadata": {
        "id": "f38859f3",
        "outputId": "7ea19789-834f-4f2f-dbac-0e55119ea758"
      },
      "outputs": [
        {
          "name": "stdout",
          "output_type": "stream",
          "text": [
            "              precision    recall  f1-score   support\n",
            "\n",
            "           0       0.93      0.48      0.64        56\n",
            "           1       0.81      0.98      0.89       129\n",
            "\n",
            "    accuracy                           0.83       185\n",
            "   macro avg       0.87      0.73      0.76       185\n",
            "weighted avg       0.85      0.83      0.81       185\n",
            "\n"
          ]
        }
      ],
      "source": [
        "print(classification_report(y_test, SVM_prediction)) # a reprot off all needed metrices"
      ]
    },
    {
      "cell_type": "code",
      "execution_count": null,
      "id": "501922d0",
      "metadata": {
        "scrolled": true,
        "id": "501922d0",
        "outputId": "afb4114a-0c55-446a-fb96-fcfd25a2e18e"
      },
      "outputs": [
        {
          "name": "stdout",
          "output_type": "stream",
          "text": [
            "Best C Value: 1\n",
            "[0.8324324324324325, 0.827027027027027, 0.827027027027027, 0.8162162162162162, 0.8162162162162162, 0.8162162162162162, 0.8162162162162162, 0.8162162162162162, 0.8054054054054054, 0.8054054054054054, 0.7945945945945946, 0.7783783783783784, 0.7675675675675676, 0.7621621621621621, 0.7621621621621621, 0.7351351351351352, 0.7297297297297297, 0.7243243243243244, 0.7243243243243244, 0.7243243243243244, 0.7189189189189189, 0.7189189189189189, 0.7243243243243244, 0.7243243243243244, 0.7243243243243244, 0.7243243243243244, 0.7189189189189189, 0.7189189189189189, 0.7189189189189189, 0.7189189189189189, 0.7189189189189189, 0.7189189189189189, 0.7189189189189189, 0.7243243243243244, 0.7243243243243244, 0.7243243243243244, 0.7243243243243244, 0.7243243243243244, 0.7297297297297297, 0.7297297297297297, 0.7297297297297297, 0.7297297297297297, 0.7297297297297297, 0.7297297297297297, 0.7297297297297297, 0.7297297297297297, 0.7297297297297297, 0.7243243243243244, 0.7243243243243244, 0.7243243243243244, 0.7243243243243244, 0.7297297297297297, 0.7297297297297297, 0.7297297297297297, 0.7297297297297297, 0.7297297297297297, 0.7297297297297297, 0.7297297297297297, 0.7297297297297297, 0.7297297297297297, 0.7297297297297297, 0.7297297297297297, 0.7243243243243244, 0.7243243243243244, 0.7243243243243244, 0.7243243243243244, 0.7243243243243244, 0.7243243243243244, 0.7243243243243244, 0.7243243243243244, 0.7243243243243244, 0.7243243243243244, 0.7243243243243244, 0.7243243243243244, 0.7189189189189189, 0.7189189189189189, 0.7189189189189189, 0.7189189189189189, 0.7189189189189189, 0.7189189189189189, 0.7189189189189189, 0.7189189189189189, 0.7189189189189189, 0.7189189189189189, 0.7189189189189189, 0.7189189189189189, 0.7243243243243244, 0.7243243243243244, 0.7243243243243244, 0.7243243243243244, 0.7243243243243244, 0.7243243243243244, 0.7243243243243244, 0.7243243243243244, 0.7189189189189189, 0.7189189189189189, 0.7189189189189189, 0.7189189189189189, 0.7189189189189189, 0.7189189189189189, 0.7189189189189189, 0.7189189189189189, 0.7189189189189189, 0.7189189189189189, 0.7189189189189189, 0.7189189189189189, 0.7189189189189189, 0.7189189189189189, 0.7189189189189189, 0.7189189189189189, 0.7189189189189189, 0.7189189189189189, 0.7189189189189189, 0.7189189189189189, 0.7189189189189189, 0.7189189189189189, 0.7243243243243244, 0.7243243243243244, 0.7243243243243244, 0.7243243243243244, 0.7243243243243244, 0.7243243243243244, 0.7243243243243244, 0.7243243243243244, 0.7243243243243244, 0.7243243243243244, 0.7243243243243244, 0.7243243243243244, 0.7243243243243244, 0.7243243243243244, 0.7243243243243244, 0.7243243243243244, 0.7243243243243244, 0.7243243243243244, 0.7189189189189189, 0.7189189189189189, 0.7189189189189189, 0.7189189189189189, 0.7189189189189189, 0.7189189189189189, 0.7189189189189189, 0.7189189189189189, 0.7189189189189189, 0.7135135135135136, 0.7135135135135136, 0.7135135135135136, 0.7135135135135136, 0.7135135135135136, 0.7135135135135136, 0.7135135135135136, 0.7135135135135136, 0.7135135135135136, 0.7135135135135136, 0.7135135135135136, 0.7135135135135136, 0.7135135135135136, 0.7135135135135136, 0.7135135135135136, 0.7135135135135136, 0.7135135135135136, 0.7135135135135136, 0.7135135135135136, 0.7135135135135136, 0.7135135135135136, 0.7135135135135136, 0.7135135135135136, 0.7135135135135136, 0.7135135135135136, 0.7135135135135136, 0.7135135135135136, 0.7135135135135136, 0.7135135135135136, 0.7135135135135136, 0.7135135135135136, 0.7135135135135136, 0.7135135135135136, 0.7135135135135136, 0.7135135135135136, 0.7135135135135136, 0.7135135135135136, 0.7135135135135136, 0.7135135135135136, 0.7135135135135136, 0.7135135135135136, 0.7135135135135136, 0.7135135135135136, 0.7135135135135136, 0.7135135135135136, 0.7135135135135136, 0.7135135135135136, 0.7135135135135136, 0.7135135135135136, 0.7081081081081081, 0.7081081081081081, 0.7081081081081081, 0.7081081081081081, 0.7081081081081081, 0.7081081081081081, 0.7081081081081081, 0.7081081081081081, 0.7081081081081081, 0.7081081081081081, 0.7081081081081081, 0.7081081081081081, 0.7081081081081081, 0.7081081081081081, 0.7081081081081081, 0.7081081081081081, 0.7081081081081081, 0.7081081081081081, 0.7081081081081081, 0.7081081081081081, 0.7081081081081081, 0.7081081081081081, 0.7081081081081081, 0.7081081081081081, 0.7081081081081081, 0.7081081081081081, 0.7081081081081081, 0.7081081081081081, 0.7081081081081081, 0.7081081081081081, 0.7081081081081081, 0.7081081081081081, 0.7081081081081081, 0.7081081081081081, 0.7081081081081081, 0.7081081081081081, 0.7081081081081081, 0.7081081081081081, 0.7081081081081081, 0.7081081081081081, 0.7081081081081081, 0.7027027027027027, 0.7027027027027027, 0.7027027027027027, 0.7027027027027027, 0.7027027027027027, 0.7081081081081081, 0.7081081081081081, 0.7081081081081081, 0.7081081081081081, 0.7081081081081081, 0.7081081081081081, 0.7081081081081081, 0.7081081081081081, 0.7081081081081081, 0.7081081081081081, 0.7081081081081081, 0.7081081081081081, 0.7081081081081081, 0.7081081081081081, 0.7081081081081081, 0.7081081081081081, 0.7081081081081081, 0.7081081081081081, 0.7081081081081081, 0.7081081081081081, 0.7081081081081081, 0.7081081081081081, 0.7081081081081081, 0.7081081081081081, 0.7081081081081081, 0.7081081081081081, 0.7081081081081081, 0.7027027027027027, 0.7027027027027027, 0.7027027027027027, 0.7027027027027027, 0.7027027027027027, 0.7027027027027027, 0.7027027027027027, 0.7027027027027027, 0.7027027027027027, 0.7027027027027027, 0.7027027027027027, 0.7027027027027027, 0.7027027027027027, 0.7027027027027027, 0.7027027027027027, 0.7027027027027027, 0.7027027027027027, 0.7027027027027027, 0.6972972972972973, 0.6972972972972973, 0.6972972972972973, 0.6972972972972973, 0.6972972972972973, 0.6972972972972973, 0.6972972972972973, 0.6972972972972973, 0.6972972972972973, 0.6972972972972973, 0.6972972972972973, 0.6972972972972973, 0.6972972972972973, 0.6972972972972973, 0.6972972972972973, 0.6972972972972973, 0.6972972972972973, 0.6972972972972973, 0.6972972972972973, 0.6972972972972973, 0.6972972972972973, 0.6972972972972973, 0.6972972972972973, 0.6972972972972973, 0.6972972972972973, 0.6972972972972973, 0.6972972972972973, 0.6972972972972973, 0.6972972972972973, 0.6972972972972973, 0.6972972972972973, 0.6972972972972973, 0.6972972972972973, 0.6972972972972973, 0.6972972972972973, 0.6972972972972973, 0.6972972972972973, 0.6972972972972973, 0.6972972972972973, 0.6972972972972973, 0.6972972972972973, 0.6972972972972973, 0.6972972972972973, 0.6972972972972973, 0.6972972972972973, 0.6972972972972973, 0.7027027027027027, 0.7027027027027027, 0.7027027027027027, 0.7027027027027027, 0.7027027027027027, 0.7027027027027027, 0.7027027027027027, 0.7027027027027027, 0.7027027027027027, 0.7027027027027027, 0.7027027027027027, 0.7027027027027027, 0.7027027027027027, 0.7027027027027027, 0.7027027027027027, 0.7027027027027027, 0.7027027027027027, 0.7027027027027027, 0.7027027027027027, 0.7027027027027027]\n",
            "Prediction Accuracy after trying all possiblities from 1 to 350 for C parameter:  0.83\n"
          ]
        }
      ],
      "source": [
        "#vary one parameter only which is C with all possiblities from 1 to 350\n",
        "c_vals = list(range(1, 350)) #c value= array from one to 350\n",
        "\n",
        "#Accuracy list\n",
        "accuracy = [0 for i in range(349)] #loop from 1 to 350\n",
        "\n",
        "\n",
        "#Loop through c_values\n",
        "for i, c in enumerate(c_vals):\n",
        "    #Create support vector machine object\n",
        "    svc_model = SVC(C=c) #C=c\n",
        "\n",
        "    #fit support vector machine model\n",
        "    svc_model.fit(X_train, y_train)\n",
        "\n",
        "    #Make predictions\n",
        "    predictions = svc_model.predict(X_test)\n",
        "\n",
        "    #add accuracy score to accuracy list\n",
        "    accuracy[i] = accuracy_score(y_test, predictions)\n",
        "\n",
        "print(\"Best C Value:\", c_vals[accuracy.index(max(accuracy))])\n",
        "print(accuracy)\n",
        "print(\"Prediction Accuracy after trying all possiblities from 1 to 350 for C parameter: \", round(max(accuracy),2))"
      ]
    },
    {
      "cell_type": "code",
      "execution_count": null,
      "id": "f7fa7792",
      "metadata": {
        "id": "f7fa7792",
        "outputId": "a52d7768-2cab-4e81-d388-f78f88adf07e"
      },
      "outputs": [
        {
          "name": "stdout",
          "output_type": "stream",
          "text": [
            "Accuracy of SVM classifier after trying best value for c parameter on test set: 0.83\n"
          ]
        }
      ],
      "source": [
        "SVM_model3 = SVC(C=1) #Initialize SVM model again with c=1\n",
        "SVM_model3.fit(X_train, y_train) #fit=training the model\n",
        "#mean accuracy of the model\n",
        "print('Accuracy of SVM classifier after trying best value for c parameter on test set: {:.2f}'.format(SVM_model3.score(X_test, y_test)))"
      ]
    },
    {
      "cell_type": "markdown",
      "id": "9ed89bbd",
      "metadata": {
        "id": "9ed89bbd"
      },
      "source": [
        "# second algorithm: KNN"
      ]
    },
    {
      "cell_type": "code",
      "execution_count": null,
      "id": "688a2ce9",
      "metadata": {
        "id": "688a2ce9",
        "outputId": "a89b0b37-a39b-48bf-a547-b4b0ebcc74ed"
      },
      "outputs": [
        {
          "name": "stdout",
          "output_type": "stream",
          "text": [
            "Accuracy of KNN classifier on test set: 0.77\n"
          ]
        }
      ],
      "source": [
        "from sklearn.neighbors import KNeighborsClassifier\n",
        "classifier = KNeighborsClassifier(n_neighbors=5) #initialize KNN model\n",
        "classifier.fit(X_train, y_train) #fit=training the model\n",
        "print('Accuracy of KNN classifier on test set: {:.2f}'.format(classifier.score(X_test, y_test))) #mean accuracy of the model"
      ]
    },
    {
      "cell_type": "code",
      "execution_count": null,
      "id": "12211e59",
      "metadata": {
        "id": "12211e59"
      },
      "outputs": [],
      "source": [
        "y_pred = classifier.predict(X_test)"
      ]
    },
    {
      "cell_type": "code",
      "execution_count": null,
      "id": "ddf683e9",
      "metadata": {
        "id": "ddf683e9",
        "outputId": "3168217a-ac6e-4e60-ca18-85429b533108"
      },
      "outputs": [
        {
          "name": "stdout",
          "output_type": "stream",
          "text": [
            "[[ 25  31]\n",
            " [ 11 118]]\n",
            "              precision    recall  f1-score   support\n",
            "\n",
            "           0       0.69      0.45      0.54        56\n",
            "           1       0.79      0.91      0.85       129\n",
            "\n",
            "    accuracy                           0.77       185\n",
            "   macro avg       0.74      0.68      0.70       185\n",
            "weighted avg       0.76      0.77      0.76       185\n",
            "\n"
          ]
        }
      ],
      "source": [
        "from sklearn.metrics import classification_report, confusion_matrix\n",
        "print(confusion_matrix(y_test, y_pred))\n",
        "print(classification_report(y_test, y_pred))"
      ]
    },
    {
      "cell_type": "code",
      "execution_count": null,
      "id": "1b1d4e92",
      "metadata": {
        "id": "1b1d4e92",
        "outputId": "c3c3821f-6545-46ef-e43b-3a3f8f903b7a"
      },
      "outputs": [
        {
          "data": {
            "text/plain": [
              "array([[ 25,  31],\n",
              "       [ 11, 118]], dtype=int64)"
            ]
          },
          "execution_count": 209,
          "metadata": {},
          "output_type": "execute_result"
        }
      ],
      "source": [
        "# Making the Confusion Matrix\n",
        "from sklearn.metrics import confusion_matrix, accuracy_score\n",
        "cm = confusion_matrix(y_test, y_pred)\n",
        "ac = accuracy_score(y_test, y_pred)\n",
        "cm"
      ]
    },
    {
      "cell_type": "markdown",
      "id": "383e9211",
      "metadata": {
        "id": "383e9211"
      },
      "source": [
        "# Third algorithm: Logistic Regressiom"
      ]
    },
    {
      "cell_type": "code",
      "execution_count": null,
      "id": "941af4dd",
      "metadata": {
        "id": "941af4dd",
        "outputId": "9c119a6d-b508-48a1-db0b-e5ae47282a16"
      },
      "outputs": [
        {
          "name": "stdout",
          "output_type": "stream",
          "text": [
            "Accuracy of logistic regression classifier on test set: 0.83\n"
          ]
        }
      ],
      "source": [
        "from sklearn.linear_model import LogisticRegression\n",
        "from sklearn.metrics import classification_report\n",
        "from sklearn.metrics import confusion_matrix\n",
        "from sklearn.metrics import accuracy_score\n",
        "\n",
        "logreg = LogisticRegression() #initialize Logistic Regression model\n",
        "logreg.fit(X_train, y_train) #fit=training the model\n",
        "print('Accuracy of logistic regression classifier on test set: {:.2f}'.format(logreg.score(X_test, y_test))) #mean accuracy of the model"
      ]
    },
    {
      "cell_type": "code",
      "execution_count": null,
      "id": "1910aef7",
      "metadata": {
        "id": "1910aef7",
        "outputId": "17cd121e-2c40-4a76-88d8-daba4033c3b5"
      },
      "outputs": [
        {
          "name": "stdout",
          "output_type": "stream",
          "text": [
            "[[ 28  28]\n",
            " [  3 126]]\n"
          ]
        }
      ],
      "source": [
        "LR_prediction = logreg.predict(X_test)\n",
        "confusion_matrix = confusion_matrix(y_test.tolist(), LR_prediction.tolist())\n",
        "print(confusion_matrix)"
      ]
    },
    {
      "cell_type": "code",
      "execution_count": null,
      "id": "dcf28d35",
      "metadata": {
        "id": "dcf28d35",
        "outputId": "87062ee1-7b14-40c3-f064-11c9e6e2bcc2"
      },
      "outputs": [
        {
          "name": "stdout",
          "output_type": "stream",
          "text": [
            "              precision    recall  f1-score   support\n",
            "\n",
            "           0       0.90      0.50      0.64        56\n",
            "           1       0.82      0.98      0.89       129\n",
            "\n",
            "    accuracy                           0.83       185\n",
            "   macro avg       0.86      0.74      0.77       185\n",
            "weighted avg       0.84      0.83      0.82       185\n",
            "\n"
          ]
        }
      ],
      "source": [
        "print(classification_report(y_test, LR_prediction))"
      ]
    },
    {
      "cell_type": "markdown",
      "id": "56b012d3",
      "metadata": {
        "id": "56b012d3"
      },
      "source": [
        "# Cross-validation for all models"
      ]
    },
    {
      "cell_type": "code",
      "execution_count": null,
      "id": "07846753",
      "metadata": {
        "id": "07846753",
        "outputId": "8850001c-f8f2-4edd-ff75-26980251f3f5"
      },
      "outputs": [
        {
          "name": "stdout",
          "output_type": "stream",
          "text": [
            "SVM: 0.799425 (0.054976)\n",
            "LR: 0.792447 (0.045396)\n",
            "KNN: 0.743268 (0.074088)\n"
          ]
        }
      ],
      "source": [
        "#To evaluate the perfprmance of all the models, We will use cross-validation by applying each model n times for different training and testing samples\n",
        "from sklearn.model_selection import cross_val_score\n",
        "from sklearn.model_selection import StratifiedKFold\n",
        "from sklearn.linear_model import LogisticRegression\n",
        "from sklearn.neighbors import KNeighborsClassifier\n",
        "from sklearn.svm import SVC\n",
        "from sklearn.metrics import accuracy_score\n",
        "\n",
        "models = [] #array that contains all the models\n",
        "models.append(('SVM', SVC(gamma='auto')))\n",
        "models.append(('LR', LogisticRegression(solver='liblinear', multi_class='ovr')))\n",
        "models.append(('KNN', KNeighborsClassifier()))\n",
        "\n",
        "# evaluate each model in turn, we have 3 models which are LR, KNN and SVM\n",
        "results = [] #array that contains the result accuracy of all models\n",
        "names = [] #array that contains the names of all models\n",
        "for name, model in models: #loop to go through all the 3 models\n",
        "    kfold = StratifiedKFold(n_splits=15, random_state=1, shuffle=True) #Repeats Stratified K-Fold 15 times\n",
        "    cv_results = cross_val_score(model, X_train, y_train, cv=kfold, scoring='accuracy') #cross validiation\n",
        "    results.append(cv_results)\n",
        "    names.append(name)\n",
        "\n",
        "    print('%s: %f (%f)' % (name, cv_results.mean(), cv_results.std())) #the mean accuracy for each model and the SD"
      ]
    },
    {
      "cell_type": "code",
      "execution_count": null,
      "id": "a9e42ab4",
      "metadata": {
        "id": "a9e42ab4",
        "outputId": "27eab89a-3da7-4587-facc-4c6676f772d7"
      },
      "outputs": [
        {
          "data": {
            "image/png": "[encoded data removed]",
            "text/plain": [
              "<Figure size 432x288 with 1 Axes>"
            ]
          },
          "metadata": {
            "needs_background": "light"
          },
          "output_type": "display_data"
        }
      ],
      "source": [
        "# Compare all models accuracy using a boxplot\n",
        "plt.boxplot(results, labels=names)\n",
        "plt.title('Algorithm Comparison')\n",
        "plt.show()"
      ]
    }
  ],
  "metadata": {
    "kernelspec": {
      "display_name": "Python 3 (ipykernel)",
      "language": "python",
      "name": "python3"
    },
    "language_info": {
      "codemirror_mode": {
        "name": "ipython",
        "version": 3
      },
      "file_extension": ".py",
      "mimetype": "text/x-python",
      "name": "python",
      "nbconvert_exporter": "python",
      "pygments_lexer": "ipython3",
      "version": "3.9.7"
    },
    "colab": {
      "provenance": []
    }
  },
  "nbformat": 4,
  "nbformat_minor": 5
}